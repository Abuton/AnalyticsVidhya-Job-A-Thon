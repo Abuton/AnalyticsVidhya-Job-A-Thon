{
 "cells": [
  {
   "cell_type": "code",
   "execution_count": 1,
   "id": "eb2ddcfd",
   "metadata": {},
   "outputs": [],
   "source": [
    "import pandas as pd\n",
    "import numpy as np\n",
    "import datetime"
   ]
  },
  {
   "cell_type": "code",
   "execution_count": 2,
   "id": "f0b5c237",
   "metadata": {},
   "outputs": [
    {
     "data": {
      "text/plain": [
       "(34050, 3)"
      ]
     },
     "execution_count": 2,
     "metadata": {},
     "output_type": "execute_result"
    }
   ],
   "source": [
    "user_df = pd.read_csv(\"data/userTable.csv\", parse_dates=['Signup Date'])\n",
    "\n",
    "user_df.shape"
   ]
  },
  {
   "cell_type": "code",
   "execution_count": 3,
   "id": "01b34032",
   "metadata": {},
   "outputs": [
    {
     "data": {
      "text/html": [
       "<div>\n",
       "<style scoped>\n",
       "    .dataframe tbody tr th:only-of-type {\n",
       "        vertical-align: middle;\n",
       "    }\n",
       "\n",
       "    .dataframe tbody tr th {\n",
       "        vertical-align: top;\n",
       "    }\n",
       "\n",
       "    .dataframe thead th {\n",
       "        text-align: right;\n",
       "    }\n",
       "</style>\n",
       "<table border=\"1\" class=\"dataframe\">\n",
       "  <thead>\n",
       "    <tr style=\"text-align: right;\">\n",
       "      <th></th>\n",
       "      <th>UserID</th>\n",
       "      <th>Signup Date</th>\n",
       "      <th>User Segment</th>\n",
       "    </tr>\n",
       "  </thead>\n",
       "  <tbody>\n",
       "    <tr>\n",
       "      <th>0</th>\n",
       "      <td>U133159</td>\n",
       "      <td>2018-04-14 07:01:16.202607+00:00</td>\n",
       "      <td>C</td>\n",
       "    </tr>\n",
       "    <tr>\n",
       "      <th>1</th>\n",
       "      <td>U129368</td>\n",
       "      <td>2017-12-02 09:38:41.584270+00:00</td>\n",
       "      <td>B</td>\n",
       "    </tr>\n",
       "    <tr>\n",
       "      <th>2</th>\n",
       "      <td>U109654</td>\n",
       "      <td>2013-03-19 11:38:55+00:00</td>\n",
       "      <td>B</td>\n",
       "    </tr>\n",
       "    <tr>\n",
       "      <th>3</th>\n",
       "      <td>U108998</td>\n",
       "      <td>2018-01-18 08:29:51.627954+00:00</td>\n",
       "      <td>C</td>\n",
       "    </tr>\n",
       "    <tr>\n",
       "      <th>4</th>\n",
       "      <td>U131393</td>\n",
       "      <td>2018-03-27 08:05:28.806800+00:00</td>\n",
       "      <td>B</td>\n",
       "    </tr>\n",
       "  </tbody>\n",
       "</table>\n",
       "</div>"
      ],
      "text/plain": [
       "    UserID                      Signup Date User Segment\n",
       "0  U133159 2018-04-14 07:01:16.202607+00:00            C\n",
       "1  U129368 2017-12-02 09:38:41.584270+00:00            B\n",
       "2  U109654        2013-03-19 11:38:55+00:00            B\n",
       "3  U108998 2018-01-18 08:29:51.627954+00:00            C\n",
       "4  U131393 2018-03-27 08:05:28.806800+00:00            B"
      ]
     },
     "execution_count": 3,
     "metadata": {},
     "output_type": "execute_result"
    }
   ],
   "source": [
    "user_df.head()"
   ]
  },
  {
   "cell_type": "code",
   "execution_count": 3,
   "id": "fc474fd1",
   "metadata": {},
   "outputs": [
    {
     "name": "stdout",
     "output_type": "stream",
     "text": [
      "<class 'pandas.core.frame.DataFrame'>\n",
      "RangeIndex: 34050 entries, 0 to 34049\n",
      "Data columns (total 3 columns):\n",
      " #   Column        Non-Null Count  Dtype              \n",
      "---  ------        --------------  -----              \n",
      " 0   UserID        34050 non-null  object             \n",
      " 1   Signup Date   34050 non-null  datetime64[ns, UTC]\n",
      " 2   User Segment  34050 non-null  object             \n",
      "dtypes: datetime64[ns, UTC](1), object(2)\n",
      "memory usage: 798.2+ KB\n"
     ]
    }
   ],
   "source": [
    "user_df.info()"
   ]
  },
  {
   "cell_type": "code",
   "execution_count": 4,
   "id": "c5dfa8b8",
   "metadata": {},
   "outputs": [],
   "source": [
    "visitorsLog_df = pd.read_csv('data/VisitorLogsData.csv', parse_dates=['VisitDateTime'])"
   ]
  },
  {
   "cell_type": "code",
   "execution_count": 5,
   "id": "e19f1074",
   "metadata": {},
   "outputs": [
    {
     "data": {
      "text/plain": [
       "(6588000, 9)"
      ]
     },
     "execution_count": 5,
     "metadata": {},
     "output_type": "execute_result"
    }
   ],
   "source": [
    "visitorsLog_df.shape"
   ]
  },
  {
   "cell_type": "code",
   "execution_count": 6,
   "id": "6e0a0b5a",
   "metadata": {},
   "outputs": [
    {
     "data": {
      "text/html": [
       "<div>\n",
       "<style scoped>\n",
       "    .dataframe tbody tr th:only-of-type {\n",
       "        vertical-align: middle;\n",
       "    }\n",
       "\n",
       "    .dataframe tbody tr th {\n",
       "        vertical-align: top;\n",
       "    }\n",
       "\n",
       "    .dataframe thead th {\n",
       "        text-align: right;\n",
       "    }\n",
       "</style>\n",
       "<table border=\"1\" class=\"dataframe\">\n",
       "  <thead>\n",
       "    <tr style=\"text-align: right;\">\n",
       "      <th></th>\n",
       "      <th>webClientID</th>\n",
       "      <th>VisitDateTime</th>\n",
       "      <th>ProductID</th>\n",
       "      <th>UserID</th>\n",
       "      <th>Activity</th>\n",
       "      <th>Browser</th>\n",
       "      <th>OS</th>\n",
       "      <th>City</th>\n",
       "      <th>Country</th>\n",
       "    </tr>\n",
       "  </thead>\n",
       "  <tbody>\n",
       "    <tr>\n",
       "      <th>0</th>\n",
       "      <td>WI10000050298</td>\n",
       "      <td>2018-05-07 04:28:45.970</td>\n",
       "      <td>pr100631</td>\n",
       "      <td>NaN</td>\n",
       "      <td>NaN</td>\n",
       "      <td>Chrome Mobile</td>\n",
       "      <td>Android</td>\n",
       "      <td>Chennai</td>\n",
       "      <td>India</td>\n",
       "    </tr>\n",
       "    <tr>\n",
       "      <th>1</th>\n",
       "      <td>WI10000025922</td>\n",
       "      <td>2018-05-13 07:26:04.964</td>\n",
       "      <td>pr100707</td>\n",
       "      <td>NaN</td>\n",
       "      <td>NaN</td>\n",
       "      <td>Chrome</td>\n",
       "      <td>Windows</td>\n",
       "      <td>NaN</td>\n",
       "      <td>Taiwan</td>\n",
       "    </tr>\n",
       "    <tr>\n",
       "      <th>2</th>\n",
       "      <td>WI100000204522</td>\n",
       "      <td>2018-05-11 11:43:42.832</td>\n",
       "      <td>pr100030</td>\n",
       "      <td>NaN</td>\n",
       "      <td>click</td>\n",
       "      <td>Chrome</td>\n",
       "      <td>windows</td>\n",
       "      <td>Gurgaon</td>\n",
       "      <td>India</td>\n",
       "    </tr>\n",
       "    <tr>\n",
       "      <th>3</th>\n",
       "      <td>WI10000011974</td>\n",
       "      <td>2018-05-13 15:20:23.436</td>\n",
       "      <td>Pr100192</td>\n",
       "      <td>NaN</td>\n",
       "      <td>CLICK</td>\n",
       "      <td>Chrome</td>\n",
       "      <td>Windows</td>\n",
       "      <td></td>\n",
       "      <td></td>\n",
       "    </tr>\n",
       "    <tr>\n",
       "      <th>4</th>\n",
       "      <td>WI100000441953</td>\n",
       "      <td>2018-05-08 20:44:25.238</td>\n",
       "      <td>Pr100762</td>\n",
       "      <td>NaN</td>\n",
       "      <td>click</td>\n",
       "      <td>Chrome</td>\n",
       "      <td>mac os x</td>\n",
       "      <td>Iselin</td>\n",
       "      <td>United States</td>\n",
       "    </tr>\n",
       "  </tbody>\n",
       "</table>\n",
       "</div>"
      ],
      "text/plain": [
       "      webClientID            VisitDateTime ProductID UserID Activity  \\\n",
       "0   WI10000050298  2018-05-07 04:28:45.970  pr100631    NaN      NaN   \n",
       "1   WI10000025922  2018-05-13 07:26:04.964  pr100707    NaN      NaN   \n",
       "2  WI100000204522  2018-05-11 11:43:42.832  pr100030    NaN    click   \n",
       "3   WI10000011974  2018-05-13 15:20:23.436  Pr100192    NaN    CLICK   \n",
       "4  WI100000441953  2018-05-08 20:44:25.238  Pr100762    NaN    click   \n",
       "\n",
       "         Browser        OS     City        Country  \n",
       "0  Chrome Mobile   Android  Chennai          India  \n",
       "1         Chrome   Windows      NaN         Taiwan  \n",
       "2         Chrome   windows  Gurgaon          India  \n",
       "3         Chrome   Windows                          \n",
       "4         Chrome  mac os x   Iselin  United States  "
      ]
     },
     "execution_count": 6,
     "metadata": {},
     "output_type": "execute_result"
    }
   ],
   "source": [
    "visitorsLog_df.head()"
   ]
  },
  {
   "cell_type": "code",
   "execution_count": 7,
   "id": "15fd41c9",
   "metadata": {},
   "outputs": [
    {
     "name": "stdout",
     "output_type": "stream",
     "text": [
      "<class 'pandas.core.frame.DataFrame'>\n",
      "RangeIndex: 6588000 entries, 0 to 6587999\n",
      "Data columns (total 9 columns):\n",
      " #   Column         Dtype \n",
      "---  ------         ----- \n",
      " 0   webClientID    object\n",
      " 1   VisitDateTime  object\n",
      " 2   ProductID      object\n",
      " 3   UserID         object\n",
      " 4   Activity       object\n",
      " 5   Browser        object\n",
      " 6   OS             object\n",
      " 7   City           object\n",
      " 8   Country        object\n",
      "dtypes: object(9)\n",
      "memory usage: 452.4+ MB\n"
     ]
    }
   ],
   "source": [
    "visitorsLog_df.info()"
   ]
  },
  {
   "cell_type": "code",
   "execution_count": 8,
   "id": "c73a6f9b",
   "metadata": {},
   "outputs": [
    {
     "data": {
      "text/plain": [
       "(34050, 9)"
      ]
     },
     "execution_count": 8,
     "metadata": {},
     "output_type": "execute_result"
    }
   ],
   "source": [
    "sample_df = pd.read_csv(\"data/sample_submission_M7Vpb9f.csv\")\n",
    "sample_df.shape"
   ]
  },
  {
   "cell_type": "code",
   "execution_count": 9,
   "id": "a7e85ae4",
   "metadata": {},
   "outputs": [
    {
     "data": {
      "text/plain": [
       "(650695, 9)"
      ]
     },
     "execution_count": 9,
     "metadata": {},
     "output_type": "execute_result"
    }
   ],
   "source": [
    "visitorsLog_df = visitorsLog_df.dropna(subset=['UserID'])\n",
    "\n",
    "visitorsLog_df.shape"
   ]
  },
  {
   "cell_type": "code",
   "execution_count": 10,
   "id": "495454b1",
   "metadata": {},
   "outputs": [],
   "source": [
    "visitdatetime = []\n",
    "for i in visitorsLog_df['VisitDateTime'].fillna(''):\n",
    "    if '-' in i:\n",
    "        dates = i.split()[0]\n",
    "        times = i.split()[-1].split('.')[0]\n",
    "        visitdatetime.append(dates+\" \"+times)\n",
    "    else: visitdatetime.append(i)\n",
    "\n",
    "visitorsLog_df['newVisitDateTime'] = visitdatetime"
   ]
  },
  {
   "cell_type": "code",
   "execution_count": 11,
   "id": "b27747a9",
   "metadata": {},
   "outputs": [],
   "source": [
    "# convert from unixtimestamp to actual datetime\n",
    "def convert_2_timestamp(column, data):\n",
    "    \"\"\"convert from unix time to readable timestamp\n",
    "        args: column: columns that needs to be converted to timestamp\n",
    "                data: data that has the specified column\n",
    "    \"\"\"\n",
    "    if column in data.columns.values:\n",
    "        timestamp_ = []\n",
    "        for time_unix in data[column]:\n",
    "            if '-' in str(time_unix):\n",
    "                timestamp_.append(time_unix)\n",
    "            elif len(str(time_unix)) == 19:\n",
    "                a = datetime.datetime.fromtimestamp(np.int64(time_unix[:10]))\n",
    "                timestamp_.append(a.strftime('%Y-%m-%d %H:%M:%S'))      \n",
    "            else: timestamp_.append(time_unix)\n",
    "        \n",
    "        return timestamp_\n",
    "                                  \n",
    "    else: print(f\"{column} not in data\")\n"
   ]
  },
  {
   "cell_type": "code",
   "execution_count": 12,
   "id": "3670b9fa",
   "metadata": {
    "scrolled": true
   },
   "outputs": [],
   "source": [
    "visitorsLog_df['newVisitDateTime'] = convert_2_timestamp(\"newVisitDateTime\", visitorsLog_df)\n"
   ]
  },
  {
   "cell_type": "code",
   "execution_count": 13,
   "id": "892be292",
   "metadata": {},
   "outputs": [],
   "source": [
    "# take last 21 days of visitors table\n",
    "visitorsLog_df['newVisitDateTime'] = pd.to_datetime(visitorsLog_df['newVisitDateTime'].fillna(0))\n",
    "\n",
    "visitorsLog_df['days'] = visitorsLog_df['newVisitDateTime'].dt.day"
   ]
  },
  {
   "cell_type": "code",
   "execution_count": 14,
   "id": "b5c3abdc",
   "metadata": {},
   "outputs": [
    {
     "data": {
      "text/html": [
       "<div>\n",
       "<style scoped>\n",
       "    .dataframe tbody tr th:only-of-type {\n",
       "        vertical-align: middle;\n",
       "    }\n",
       "\n",
       "    .dataframe tbody tr th {\n",
       "        vertical-align: top;\n",
       "    }\n",
       "\n",
       "    .dataframe thead th {\n",
       "        text-align: right;\n",
       "    }\n",
       "</style>\n",
       "<table border=\"1\" class=\"dataframe\">\n",
       "  <thead>\n",
       "    <tr style=\"text-align: right;\">\n",
       "      <th></th>\n",
       "      <th>webClientID</th>\n",
       "      <th>VisitDateTime</th>\n",
       "      <th>ProductID</th>\n",
       "      <th>UserID</th>\n",
       "      <th>Activity</th>\n",
       "      <th>Browser</th>\n",
       "      <th>OS</th>\n",
       "      <th>City</th>\n",
       "      <th>Country</th>\n",
       "      <th>newVisitDateTime</th>\n",
       "      <th>days</th>\n",
       "    </tr>\n",
       "  </thead>\n",
       "  <tbody>\n",
       "    <tr>\n",
       "      <th>14</th>\n",
       "      <td>WI100000112772</td>\n",
       "      <td>1526366895249000000</td>\n",
       "      <td>Pr100017</td>\n",
       "      <td>U106593</td>\n",
       "      <td>click</td>\n",
       "      <td>Chrome Mobile</td>\n",
       "      <td>Android</td>\n",
       "      <td></td>\n",
       "      <td></td>\n",
       "      <td>2018-05-15 07:48:15</td>\n",
       "      <td>15.0</td>\n",
       "    </tr>\n",
       "    <tr>\n",
       "      <th>21</th>\n",
       "      <td>WI1000009977</td>\n",
       "      <td>1527058921790000000</td>\n",
       "      <td>Pr101008</td>\n",
       "      <td>U108297</td>\n",
       "      <td>NaN</td>\n",
       "      <td>Chrome Mobile</td>\n",
       "      <td>Android</td>\n",
       "      <td>Delhi</td>\n",
       "      <td>India</td>\n",
       "      <td>2018-05-23 08:02:01</td>\n",
       "      <td>23.0</td>\n",
       "    </tr>\n",
       "    <tr>\n",
       "      <th>23</th>\n",
       "      <td>WI100000223826</td>\n",
       "      <td>2018-05-10 06:28:53.391</td>\n",
       "      <td>Pr100241</td>\n",
       "      <td>U132443</td>\n",
       "      <td>NaN</td>\n",
       "      <td>Firefox</td>\n",
       "      <td>Windows</td>\n",
       "      <td>NaN</td>\n",
       "      <td>India</td>\n",
       "      <td>2018-05-10 06:28:53</td>\n",
       "      <td>10.0</td>\n",
       "    </tr>\n",
       "    <tr>\n",
       "      <th>24</th>\n",
       "      <td>WI10000021998</td>\n",
       "      <td>2018-05-08 12:40:02.153</td>\n",
       "      <td>pr100495</td>\n",
       "      <td>U134616</td>\n",
       "      <td>click</td>\n",
       "      <td>Chrome</td>\n",
       "      <td>Windows</td>\n",
       "      <td>Cottage Grove</td>\n",
       "      <td>United States</td>\n",
       "      <td>2018-05-08 12:40:02</td>\n",
       "      <td>8.0</td>\n",
       "    </tr>\n",
       "    <tr>\n",
       "      <th>33</th>\n",
       "      <td>WI10000036281</td>\n",
       "      <td>2018-05-11 15:35:43.689</td>\n",
       "      <td>Pr100363</td>\n",
       "      <td>U130784</td>\n",
       "      <td>click</td>\n",
       "      <td>Chrome</td>\n",
       "      <td>Chrome OS</td>\n",
       "      <td>New Delhi</td>\n",
       "      <td>India</td>\n",
       "      <td>2018-05-11 15:35:43</td>\n",
       "      <td>11.0</td>\n",
       "    </tr>\n",
       "  </tbody>\n",
       "</table>\n",
       "</div>"
      ],
      "text/plain": [
       "       webClientID            VisitDateTime ProductID   UserID Activity  \\\n",
       "14  WI100000112772      1526366895249000000  Pr100017  U106593    click   \n",
       "21    WI1000009977      1527058921790000000  Pr101008  U108297      NaN   \n",
       "23  WI100000223826  2018-05-10 06:28:53.391  Pr100241  U132443      NaN   \n",
       "24   WI10000021998  2018-05-08 12:40:02.153  pr100495  U134616    click   \n",
       "33   WI10000036281  2018-05-11 15:35:43.689  Pr100363  U130784    click   \n",
       "\n",
       "          Browser         OS           City        Country  \\\n",
       "14  Chrome Mobile    Android                                 \n",
       "21  Chrome Mobile    Android          Delhi          India   \n",
       "23        Firefox    Windows            NaN          India   \n",
       "24         Chrome    Windows  Cottage Grove  United States   \n",
       "33         Chrome  Chrome OS      New Delhi          India   \n",
       "\n",
       "      newVisitDateTime  days  \n",
       "14 2018-05-15 07:48:15  15.0  \n",
       "21 2018-05-23 08:02:01  23.0  \n",
       "23 2018-05-10 06:28:53  10.0  \n",
       "24 2018-05-08 12:40:02   8.0  \n",
       "33 2018-05-11 15:35:43  11.0  "
      ]
     },
     "execution_count": 14,
     "metadata": {},
     "output_type": "execute_result"
    }
   ],
   "source": [
    "visitorsLog_df.head()"
   ]
  },
  {
   "cell_type": "code",
   "execution_count": 15,
   "id": "c0032891",
   "metadata": {},
   "outputs": [],
   "source": [
    "last_21_days_df = visitorsLog_df[visitorsLog_df['days'] != 28.0 ]"
   ]
  },
  {
   "cell_type": "code",
   "execution_count": 16,
   "id": "0b70a4d3",
   "metadata": {},
   "outputs": [
    {
     "data": {
      "text/plain": [
       "(650683, 11)"
      ]
     },
     "execution_count": 16,
     "metadata": {},
     "output_type": "execute_result"
    }
   ],
   "source": [
    "last_21_days_df.shape"
   ]
  },
  {
   "cell_type": "code",
   "execution_count": 17,
   "id": "afdd8cbc",
   "metadata": {},
   "outputs": [
    {
     "data": {
      "text/plain": [
       "(650683, 13)"
      ]
     },
     "execution_count": 17,
     "metadata": {},
     "output_type": "execute_result"
    }
   ],
   "source": [
    "# map last 21 days to user\n",
    "\n",
    "combined_df = last_21_days_df.merge(user_df, on='UserID', how='inner')\n",
    "\n",
    "combined_df.shape"
   ]
  },
  {
   "cell_type": "markdown",
   "id": "473886a2",
   "metadata": {},
   "source": [
    "## Clicks_last_7_days\n",
    "\n",
    " \t\n",
    "\n",
    "Count of Clicks in the last 7 days  by the user"
   ]
  },
  {
   "cell_type": "code",
   "execution_count": 18,
   "id": "9607015c",
   "metadata": {},
   "outputs": [
    {
     "data": {
      "text/plain": [
       "CLICK       395608\n",
       "PAGELOAD    167319\n",
       "Name: Activity, dtype: int64"
      ]
     },
     "execution_count": 18,
     "metadata": {},
     "output_type": "execute_result"
    }
   ],
   "source": [
    "activity_map = {\"click\": 'CLICK', \"pageload\":'PAGELOAD'}\n",
    "combined_df['Activity'] = combined_df['Activity'].replace(activity_map)\n",
    "combined_df['Activity'].value_counts()"
   ]
  },
  {
   "cell_type": "code",
   "execution_count": 19,
   "id": "4e9d3654",
   "metadata": {},
   "outputs": [],
   "source": [
    "from datetime import datetime, date, timedelta\n",
    "def last7(datestr):\n",
    "    orig = datetime.strptime(datestr, \"%Y-%m-%d\")\n",
    "    plus7 = orig-timedelta(7)\n",
    "    return plus7"
   ]
  },
  {
   "cell_type": "code",
   "execution_count": 20,
   "id": "910b1d35",
   "metadata": {},
   "outputs": [
    {
     "data": {
      "text/plain": [
       "(212619, 13)"
      ]
     },
     "execution_count": 20,
     "metadata": {},
     "output_type": "execute_result"
    }
   ],
   "source": [
    "import datetime\n",
    "last7_df = combined_df[combined_df['newVisitDateTime'] >\n",
    "                       combined_df['newVisitDateTime'].max() - datetime.timedelta(days=7)]\n",
    "\n",
    "last7_df.shape"
   ]
  },
  {
   "cell_type": "code",
   "execution_count": 22,
   "id": "43e6e247",
   "metadata": {},
   "outputs": [],
   "source": [
    "count_last7 = last7_df[last7_df['Activity'] == 'CLICK'].groupby(['UserID']).agg({'Activity': 'count'}).reset_index()"
   ]
  },
  {
   "cell_type": "code",
   "execution_count": 23,
   "id": "204117f5",
   "metadata": {},
   "outputs": [
    {
     "data": {
      "text/html": [
       "<div>\n",
       "<style scoped>\n",
       "    .dataframe tbody tr th:only-of-type {\n",
       "        vertical-align: middle;\n",
       "    }\n",
       "\n",
       "    .dataframe tbody tr th {\n",
       "        vertical-align: top;\n",
       "    }\n",
       "\n",
       "    .dataframe thead th {\n",
       "        text-align: right;\n",
       "    }\n",
       "</style>\n",
       "<table border=\"1\" class=\"dataframe\">\n",
       "  <thead>\n",
       "    <tr style=\"text-align: right;\">\n",
       "      <th></th>\n",
       "      <th>UserID</th>\n",
       "      <th>Clicks_last_7_days</th>\n",
       "    </tr>\n",
       "  </thead>\n",
       "  <tbody>\n",
       "    <tr>\n",
       "      <th>0</th>\n",
       "      <td>U100003</td>\n",
       "      <td>2</td>\n",
       "    </tr>\n",
       "    <tr>\n",
       "      <th>1</th>\n",
       "      <td>U100008</td>\n",
       "      <td>23</td>\n",
       "    </tr>\n",
       "    <tr>\n",
       "      <th>2</th>\n",
       "      <td>U100009</td>\n",
       "      <td>4</td>\n",
       "    </tr>\n",
       "    <tr>\n",
       "      <th>3</th>\n",
       "      <td>U100012</td>\n",
       "      <td>14</td>\n",
       "    </tr>\n",
       "    <tr>\n",
       "      <th>4</th>\n",
       "      <td>U100013</td>\n",
       "      <td>3</td>\n",
       "    </tr>\n",
       "  </tbody>\n",
       "</table>\n",
       "</div>"
      ],
      "text/plain": [
       "    UserID  Clicks_last_7_days\n",
       "0  U100003                   2\n",
       "1  U100008                  23\n",
       "2  U100009                   4\n",
       "3  U100012                  14\n",
       "4  U100013                   3"
      ]
     },
     "execution_count": 23,
     "metadata": {},
     "output_type": "execute_result"
    }
   ],
   "source": [
    "count_last7.columns = ['UserID', 'Clicks_last_7_days']\n",
    "count_last7.head()"
   ]
  },
  {
   "cell_type": "code",
   "execution_count": 24,
   "id": "d4b873fe",
   "metadata": {
    "scrolled": true
   },
   "outputs": [
    {
     "data": {
      "text/html": [
       "<div>\n",
       "<style scoped>\n",
       "    .dataframe tbody tr th:only-of-type {\n",
       "        vertical-align: middle;\n",
       "    }\n",
       "\n",
       "    .dataframe tbody tr th {\n",
       "        vertical-align: top;\n",
       "    }\n",
       "\n",
       "    .dataframe thead th {\n",
       "        text-align: right;\n",
       "    }\n",
       "</style>\n",
       "<table border=\"1\" class=\"dataframe\">\n",
       "  <thead>\n",
       "    <tr style=\"text-align: right;\">\n",
       "      <th></th>\n",
       "      <th>UserID</th>\n",
       "      <th>Clicks_last_7_days</th>\n",
       "    </tr>\n",
       "  </thead>\n",
       "  <tbody>\n",
       "    <tr>\n",
       "      <th>0</th>\n",
       "      <td>U100002</td>\n",
       "      <td>NaN</td>\n",
       "    </tr>\n",
       "    <tr>\n",
       "      <th>1</th>\n",
       "      <td>U100003</td>\n",
       "      <td>2.0</td>\n",
       "    </tr>\n",
       "    <tr>\n",
       "      <th>2</th>\n",
       "      <td>U100004</td>\n",
       "      <td>NaN</td>\n",
       "    </tr>\n",
       "    <tr>\n",
       "      <th>3</th>\n",
       "      <td>U100005</td>\n",
       "      <td>NaN</td>\n",
       "    </tr>\n",
       "    <tr>\n",
       "      <th>4</th>\n",
       "      <td>U100006</td>\n",
       "      <td>NaN</td>\n",
       "    </tr>\n",
       "  </tbody>\n",
       "</table>\n",
       "</div>"
      ],
      "text/plain": [
       "    UserID  Clicks_last_7_days\n",
       "0  U100002                 NaN\n",
       "1  U100003                 2.0\n",
       "2  U100004                 NaN\n",
       "3  U100005                 NaN\n",
       "4  U100006                 NaN"
      ]
     },
     "execution_count": 24,
     "metadata": {},
     "output_type": "execute_result"
    }
   ],
   "source": [
    "my_sub = pd.DataFrame()\n",
    "my_sub['UserID'] = sample_df.UserID\n",
    "\n",
    "my_sub = my_sub.merge(count_last7, on='UserID', how='left')\n",
    "\n",
    "my_sub.head()"
   ]
  },
  {
   "cell_type": "code",
   "execution_count": 25,
   "id": "e1b0f1f3",
   "metadata": {},
   "outputs": [],
   "source": [
    "my_sub['Clicks_last_7_days'] = my_sub['Clicks_last_7_days'].fillna(my_sub['Clicks_last_7_days'].mean())"
   ]
  },
  {
   "cell_type": "markdown",
   "id": "978ae247",
   "metadata": {},
   "source": [
    "### Pageloads_last_7_days\n",
    "\t\n",
    "\n",
    "Count of Page loads in the last 7 days by the user"
   ]
  },
  {
   "cell_type": "code",
   "execution_count": 26,
   "id": "88f99c53",
   "metadata": {},
   "outputs": [],
   "source": [
    "pageload_last7 = last7_df[last7_df['Activity'] == 'PAGELOAD'].groupby(['UserID']).agg({'Activity': 'count'}).reset_index()"
   ]
  },
  {
   "cell_type": "code",
   "execution_count": 27,
   "id": "81b69985",
   "metadata": {},
   "outputs": [
    {
     "data": {
      "text/html": [
       "<div>\n",
       "<style scoped>\n",
       "    .dataframe tbody tr th:only-of-type {\n",
       "        vertical-align: middle;\n",
       "    }\n",
       "\n",
       "    .dataframe tbody tr th {\n",
       "        vertical-align: top;\n",
       "    }\n",
       "\n",
       "    .dataframe thead th {\n",
       "        text-align: right;\n",
       "    }\n",
       "</style>\n",
       "<table border=\"1\" class=\"dataframe\">\n",
       "  <thead>\n",
       "    <tr style=\"text-align: right;\">\n",
       "      <th></th>\n",
       "      <th>UserID</th>\n",
       "      <th>Pageloads_last_7_days</th>\n",
       "    </tr>\n",
       "  </thead>\n",
       "  <tbody>\n",
       "    <tr>\n",
       "      <th>0</th>\n",
       "      <td>U100003</td>\n",
       "      <td>1</td>\n",
       "    </tr>\n",
       "    <tr>\n",
       "      <th>1</th>\n",
       "      <td>U100004</td>\n",
       "      <td>1</td>\n",
       "    </tr>\n",
       "    <tr>\n",
       "      <th>2</th>\n",
       "      <td>U100005</td>\n",
       "      <td>1</td>\n",
       "    </tr>\n",
       "    <tr>\n",
       "      <th>3</th>\n",
       "      <td>U100006</td>\n",
       "      <td>1</td>\n",
       "    </tr>\n",
       "    <tr>\n",
       "      <th>4</th>\n",
       "      <td>U100008</td>\n",
       "      <td>21</td>\n",
       "    </tr>\n",
       "  </tbody>\n",
       "</table>\n",
       "</div>"
      ],
      "text/plain": [
       "    UserID  Pageloads_last_7_days\n",
       "0  U100003                      1\n",
       "1  U100004                      1\n",
       "2  U100005                      1\n",
       "3  U100006                      1\n",
       "4  U100008                     21"
      ]
     },
     "execution_count": 27,
     "metadata": {},
     "output_type": "execute_result"
    }
   ],
   "source": [
    "pageload_last7.columns = ['UserID', 'Pageloads_last_7_days']\n",
    "pageload_last7.head()"
   ]
  },
  {
   "cell_type": "code",
   "execution_count": 28,
   "id": "c1e5d83e",
   "metadata": {},
   "outputs": [],
   "source": [
    "my_sub = my_sub.merge(pageload_last7, on='UserID', how='left')\n",
    "my_sub['Pageloads_last_7_days'] = my_sub['Pageloads_last_7_days'].fillna(my_sub['Pageloads_last_7_days'].mean())"
   ]
  },
  {
   "cell_type": "markdown",
   "id": "4511dd05",
   "metadata": {},
   "source": [
    "### Most_Active_OS\n",
    "\n",
    " \t\n",
    "\n",
    "Most Frequently used OS by user. "
   ]
  },
  {
   "cell_type": "code",
   "execution_count": 29,
   "id": "9f17a97b",
   "metadata": {},
   "outputs": [],
   "source": [
    "map_os = {'windows':'Windows', 'mac os x':'Mac OS X', 'linux':'Linux', 'ios':'IOS',\n",
    "          'fedora':'Fedora', 'tizen':'Tizen', 'ubuntu':'Ubuntu', 'android':'Android', 'chrome os':'Chrome OS'}\n",
    "\n",
    "\n",
    "combined_df['OS'] = combined_df['OS'].replace(map_os)"
   ]
  },
  {
   "cell_type": "code",
   "execution_count": 30,
   "id": "e5fee2fc",
   "metadata": {},
   "outputs": [],
   "source": [
    "most_active_os = combined_df.groupby('UserID')['OS'].value_counts().reset_index(name='Count')"
   ]
  },
  {
   "cell_type": "code",
   "execution_count": 31,
   "id": "ed012b05",
   "metadata": {},
   "outputs": [],
   "source": [
    "my_sub = my_sub.merge(most_active_os[['UserID', 'OS']], on='UserID', how='left')"
   ]
  },
  {
   "cell_type": "code",
   "execution_count": 32,
   "id": "d8c166de",
   "metadata": {},
   "outputs": [],
   "source": [
    "my_sub['OS'] = my_sub['OS'].fillna(my_sub['OS'].mode()[0])"
   ]
  },
  {
   "cell_type": "markdown",
   "id": "d12796f9",
   "metadata": {},
   "source": [
    "### Recently_Viewed_Product\n",
    "\n",
    "Most recently viewed (page loads) product by the user.\n",
    "\n",
    "If a user has not viewed any product then put it as Product101."
   ]
  },
  {
   "cell_type": "code",
   "execution_count": 33,
   "id": "db16dab5",
   "metadata": {
    "scrolled": true
   },
   "outputs": [
    {
     "data": {
      "text/plain": [
       "(50732, 13)"
      ]
     },
     "execution_count": 33,
     "metadata": {},
     "output_type": "execute_result"
    }
   ],
   "source": [
    "recent_df = combined_df[combined_df['newVisitDateTime'] > \"2018-05-26 00:00:00\"]\n",
    "recent_df.shape"
   ]
  },
  {
   "cell_type": "code",
   "execution_count": 34,
   "id": "4ec7ecaa",
   "metadata": {},
   "outputs": [
    {
     "data": {
      "text/html": [
       "<div>\n",
       "<style scoped>\n",
       "    .dataframe tbody tr th:only-of-type {\n",
       "        vertical-align: middle;\n",
       "    }\n",
       "\n",
       "    .dataframe tbody tr th {\n",
       "        vertical-align: top;\n",
       "    }\n",
       "\n",
       "    .dataframe thead th {\n",
       "        text-align: right;\n",
       "    }\n",
       "</style>\n",
       "<table border=\"1\" class=\"dataframe\">\n",
       "  <thead>\n",
       "    <tr style=\"text-align: right;\">\n",
       "      <th></th>\n",
       "      <th>UserID</th>\n",
       "      <th>ProductID</th>\n",
       "      <th>Count</th>\n",
       "    </tr>\n",
       "  </thead>\n",
       "  <tbody>\n",
       "    <tr>\n",
       "      <th>0</th>\n",
       "      <td>U100005</td>\n",
       "      <td>Pr100234</td>\n",
       "      <td>1</td>\n",
       "    </tr>\n",
       "    <tr>\n",
       "      <th>1</th>\n",
       "      <td>U100008</td>\n",
       "      <td>pr100089</td>\n",
       "      <td>2</td>\n",
       "    </tr>\n",
       "    <tr>\n",
       "      <th>2</th>\n",
       "      <td>U100008</td>\n",
       "      <td>pr100606</td>\n",
       "      <td>2</td>\n",
       "    </tr>\n",
       "    <tr>\n",
       "      <th>3</th>\n",
       "      <td>U100008</td>\n",
       "      <td>Pr100025</td>\n",
       "      <td>1</td>\n",
       "    </tr>\n",
       "    <tr>\n",
       "      <th>4</th>\n",
       "      <td>U100008</td>\n",
       "      <td>Pr100234</td>\n",
       "      <td>1</td>\n",
       "    </tr>\n",
       "  </tbody>\n",
       "</table>\n",
       "</div>"
      ],
      "text/plain": [
       "    UserID ProductID  Count\n",
       "0  U100005  Pr100234      1\n",
       "1  U100008  pr100089      2\n",
       "2  U100008  pr100606      2\n",
       "3  U100008  Pr100025      1\n",
       "4  U100008  Pr100234      1"
      ]
     },
     "execution_count": 34,
     "metadata": {},
     "output_type": "execute_result"
    }
   ],
   "source": [
    "prod = recent_df[recent_df['Activity'] == 'PAGELOAD'].groupby('UserID')['ProductID'].value_counts().reset_index(name='Count')\n",
    "\n",
    "prod.head()"
   ]
  },
  {
   "cell_type": "code",
   "execution_count": 35,
   "id": "835f7d20",
   "metadata": {},
   "outputs": [
    {
     "data": {
      "text/html": [
       "<div>\n",
       "<style scoped>\n",
       "    .dataframe tbody tr th:only-of-type {\n",
       "        vertical-align: middle;\n",
       "    }\n",
       "\n",
       "    .dataframe tbody tr th {\n",
       "        vertical-align: top;\n",
       "    }\n",
       "\n",
       "    .dataframe thead th {\n",
       "        text-align: right;\n",
       "    }\n",
       "</style>\n",
       "<table border=\"1\" class=\"dataframe\">\n",
       "  <thead>\n",
       "    <tr style=\"text-align: right;\">\n",
       "      <th></th>\n",
       "      <th>UserID</th>\n",
       "      <th>Clicks_last_7_days</th>\n",
       "      <th>Pageloads_last_7_days</th>\n",
       "      <th>OS</th>\n",
       "      <th>ProductID</th>\n",
       "    </tr>\n",
       "  </thead>\n",
       "  <tbody>\n",
       "    <tr>\n",
       "      <th>0</th>\n",
       "      <td>U100002</td>\n",
       "      <td>12.293281</td>\n",
       "      <td>3.872105</td>\n",
       "      <td>Android</td>\n",
       "      <td>Product101</td>\n",
       "    </tr>\n",
       "    <tr>\n",
       "      <th>1</th>\n",
       "      <td>U100003</td>\n",
       "      <td>2.000000</td>\n",
       "      <td>1.000000</td>\n",
       "      <td>Windows</td>\n",
       "      <td>Product101</td>\n",
       "    </tr>\n",
       "    <tr>\n",
       "      <th>2</th>\n",
       "      <td>U100004</td>\n",
       "      <td>12.293281</td>\n",
       "      <td>1.000000</td>\n",
       "      <td>Windows</td>\n",
       "      <td>Product101</td>\n",
       "    </tr>\n",
       "    <tr>\n",
       "      <th>3</th>\n",
       "      <td>U100005</td>\n",
       "      <td>12.293281</td>\n",
       "      <td>1.000000</td>\n",
       "      <td>Android</td>\n",
       "      <td>Pr100234</td>\n",
       "    </tr>\n",
       "    <tr>\n",
       "      <th>4</th>\n",
       "      <td>U100006</td>\n",
       "      <td>12.293281</td>\n",
       "      <td>1.000000</td>\n",
       "      <td>Android</td>\n",
       "      <td>Product101</td>\n",
       "    </tr>\n",
       "  </tbody>\n",
       "</table>\n",
       "</div>"
      ],
      "text/plain": [
       "    UserID  Clicks_last_7_days  Pageloads_last_7_days       OS   ProductID\n",
       "0  U100002           12.293281               3.872105  Android  Product101\n",
       "1  U100003            2.000000               1.000000  Windows  Product101\n",
       "2  U100004           12.293281               1.000000  Windows  Product101\n",
       "3  U100005           12.293281               1.000000  Android    Pr100234\n",
       "4  U100006           12.293281               1.000000  Android  Product101"
      ]
     },
     "execution_count": 35,
     "metadata": {},
     "output_type": "execute_result"
    }
   ],
   "source": [
    "my_sub = my_sub.merge(prod[['UserID', 'ProductID']], on='UserID', how='left').fillna('Product101')\n",
    "my_sub.head()"
   ]
  },
  {
   "cell_type": "markdown",
   "id": "2df65ed9",
   "metadata": {},
   "source": [
    "### Most_Viewed_product_15_Days\n",
    "\t\n",
    "\n",
    "Most frequently viewed (page loads) product by the user in the last 15 days. If there are multiple products that have a similar number of page loads then , consider the recent one. If a user has not viewed any product in the last 15 days then put it as Product101. "
   ]
  },
  {
   "cell_type": "code",
   "execution_count": 36,
   "id": "b44adaae",
   "metadata": {},
   "outputs": [
    {
     "data": {
      "text/html": [
       "<div>\n",
       "<style scoped>\n",
       "    .dataframe tbody tr th:only-of-type {\n",
       "        vertical-align: middle;\n",
       "    }\n",
       "\n",
       "    .dataframe tbody tr th {\n",
       "        vertical-align: top;\n",
       "    }\n",
       "\n",
       "    .dataframe thead th {\n",
       "        text-align: right;\n",
       "    }\n",
       "</style>\n",
       "<table border=\"1\" class=\"dataframe\">\n",
       "  <thead>\n",
       "    <tr style=\"text-align: right;\">\n",
       "      <th></th>\n",
       "      <th></th>\n",
       "      <th>ProductID</th>\n",
       "    </tr>\n",
       "    <tr>\n",
       "      <th>UserID</th>\n",
       "      <th>ProductID</th>\n",
       "      <th></th>\n",
       "    </tr>\n",
       "  </thead>\n",
       "  <tbody>\n",
       "    <tr>\n",
       "      <th>U100002</th>\n",
       "      <th>Pr100258</th>\n",
       "      <td>2</td>\n",
       "    </tr>\n",
       "    <tr>\n",
       "      <th>U100003</th>\n",
       "      <th>Pr100079</th>\n",
       "      <td>1</td>\n",
       "    </tr>\n",
       "    <tr>\n",
       "      <th rowspan=\"3\" valign=\"top\">U100004</th>\n",
       "      <th>pr101505</th>\n",
       "      <td>2</td>\n",
       "    </tr>\n",
       "    <tr>\n",
       "      <th>Pr100069</th>\n",
       "      <td>1</td>\n",
       "    </tr>\n",
       "    <tr>\n",
       "      <th>Pr100312</th>\n",
       "      <td>1</td>\n",
       "    </tr>\n",
       "  </tbody>\n",
       "</table>\n",
       "</div>"
      ],
      "text/plain": [
       "                   ProductID\n",
       "UserID  ProductID           \n",
       "U100002 Pr100258           2\n",
       "U100003 Pr100079           1\n",
       "U100004 pr101505           2\n",
       "        Pr100069           1\n",
       "        Pr100312           1"
      ]
     },
     "execution_count": 36,
     "metadata": {},
     "output_type": "execute_result"
    }
   ],
   "source": [
    "last15_df = combined_df[combined_df['newVisitDateTime'] >\n",
    "                       combined_df['newVisitDateTime'].max() - datetime.timedelta(days=15)]\n",
    "\n",
    "pageload_last15 = last15_df[last15_df['Activity'] == 'PAGELOAD'].groupby(['UserID']).agg({'ProductID': 'value_counts'})\n",
    "\n",
    "pageload_last15.head()"
   ]
  },
  {
   "cell_type": "code",
   "execution_count": 37,
   "id": "f25ec736",
   "metadata": {},
   "outputs": [],
   "source": [
    "m_prod = pd.DataFrame(pageload_last15)\n",
    "m_prod.columns = ['ProductCount']\n",
    "m_prod = m_prod.reset_index()\n",
    "m_prod.columns = ['UserID', 'Most_Viewed_product_15_Days', 'ProductCount']"
   ]
  },
  {
   "cell_type": "code",
   "execution_count": 38,
   "id": "233a1a3c",
   "metadata": {},
   "outputs": [
    {
     "data": {
      "text/plain": [
       "(21661, 3)"
      ]
     },
     "execution_count": 38,
     "metadata": {},
     "output_type": "execute_result"
    }
   ],
   "source": [
    "m_prod.drop_duplicates(subset=['UserID'], inplace=True)\n",
    "m_prod.shape"
   ]
  },
  {
   "cell_type": "code",
   "execution_count": 39,
   "id": "4e02105e",
   "metadata": {},
   "outputs": [
    {
     "data": {
      "text/html": [
       "<div>\n",
       "<style scoped>\n",
       "    .dataframe tbody tr th:only-of-type {\n",
       "        vertical-align: middle;\n",
       "    }\n",
       "\n",
       "    .dataframe tbody tr th {\n",
       "        vertical-align: top;\n",
       "    }\n",
       "\n",
       "    .dataframe thead th {\n",
       "        text-align: right;\n",
       "    }\n",
       "</style>\n",
       "<table border=\"1\" class=\"dataframe\">\n",
       "  <thead>\n",
       "    <tr style=\"text-align: right;\">\n",
       "      <th></th>\n",
       "      <th>UserID</th>\n",
       "      <th>Clicks_last_7_days</th>\n",
       "      <th>Pageloads_last_7_days</th>\n",
       "      <th>OS</th>\n",
       "      <th>ProductID</th>\n",
       "      <th>Most_Viewed_product_15_Days</th>\n",
       "    </tr>\n",
       "  </thead>\n",
       "  <tbody>\n",
       "    <tr>\n",
       "      <th>0</th>\n",
       "      <td>U100002</td>\n",
       "      <td>12.293281</td>\n",
       "      <td>3.872105</td>\n",
       "      <td>Android</td>\n",
       "      <td>Product101</td>\n",
       "      <td>Pr100258</td>\n",
       "    </tr>\n",
       "    <tr>\n",
       "      <th>1</th>\n",
       "      <td>U100003</td>\n",
       "      <td>2.000000</td>\n",
       "      <td>1.000000</td>\n",
       "      <td>Windows</td>\n",
       "      <td>Product101</td>\n",
       "      <td>Pr100079</td>\n",
       "    </tr>\n",
       "    <tr>\n",
       "      <th>2</th>\n",
       "      <td>U100004</td>\n",
       "      <td>12.293281</td>\n",
       "      <td>1.000000</td>\n",
       "      <td>Windows</td>\n",
       "      <td>Product101</td>\n",
       "      <td>pr101505</td>\n",
       "    </tr>\n",
       "    <tr>\n",
       "      <th>3</th>\n",
       "      <td>U100005</td>\n",
       "      <td>12.293281</td>\n",
       "      <td>1.000000</td>\n",
       "      <td>Android</td>\n",
       "      <td>Pr100234</td>\n",
       "      <td>Pr100234</td>\n",
       "    </tr>\n",
       "    <tr>\n",
       "      <th>4</th>\n",
       "      <td>U100006</td>\n",
       "      <td>12.293281</td>\n",
       "      <td>1.000000</td>\n",
       "      <td>Android</td>\n",
       "      <td>Product101</td>\n",
       "      <td>Pr101111</td>\n",
       "    </tr>\n",
       "  </tbody>\n",
       "</table>\n",
       "</div>"
      ],
      "text/plain": [
       "    UserID  Clicks_last_7_days  Pageloads_last_7_days       OS   ProductID  \\\n",
       "0  U100002           12.293281               3.872105  Android  Product101   \n",
       "1  U100003            2.000000               1.000000  Windows  Product101   \n",
       "2  U100004           12.293281               1.000000  Windows  Product101   \n",
       "3  U100005           12.293281               1.000000  Android    Pr100234   \n",
       "4  U100006           12.293281               1.000000  Android  Product101   \n",
       "\n",
       "  Most_Viewed_product_15_Days  \n",
       "0                    Pr100258  \n",
       "1                    Pr100079  \n",
       "2                    pr101505  \n",
       "3                    Pr100234  \n",
       "4                    Pr101111  "
      ]
     },
     "execution_count": 39,
     "metadata": {},
     "output_type": "execute_result"
    }
   ],
   "source": [
    "my_sub = my_sub.merge(m_prod[['UserID', 'Most_Viewed_product_15_Days']], on='UserID', how='left').fillna('Product101')\n",
    "my_sub.head()"
   ]
  },
  {
   "cell_type": "markdown",
   "id": "d7d426eb",
   "metadata": {},
   "source": [
    "### Simple Submission"
   ]
  },
  {
   "cell_type": "code",
   "execution_count": 43,
   "id": "fdc2b2f7",
   "metadata": {},
   "outputs": [
    {
     "data": {
      "text/html": [
       "<div>\n",
       "<style scoped>\n",
       "    .dataframe tbody tr th:only-of-type {\n",
       "        vertical-align: middle;\n",
       "    }\n",
       "\n",
       "    .dataframe tbody tr th {\n",
       "        vertical-align: top;\n",
       "    }\n",
       "\n",
       "    .dataframe thead th {\n",
       "        text-align: right;\n",
       "    }\n",
       "</style>\n",
       "<table border=\"1\" class=\"dataframe\">\n",
       "  <thead>\n",
       "    <tr style=\"text-align: right;\">\n",
       "      <th></th>\n",
       "      <th>UserID</th>\n",
       "      <th>Clicks_last_7_days</th>\n",
       "      <th>Pageloads_last_7_days</th>\n",
       "      <th>OS</th>\n",
       "      <th>ProductID</th>\n",
       "      <th>Most_Viewed_product_15_Days</th>\n",
       "    </tr>\n",
       "  </thead>\n",
       "  <tbody>\n",
       "    <tr>\n",
       "      <th>0</th>\n",
       "      <td>U100002</td>\n",
       "      <td>12.293281</td>\n",
       "      <td>3.872105</td>\n",
       "      <td>Android</td>\n",
       "      <td>Product101</td>\n",
       "      <td>Pr100258</td>\n",
       "    </tr>\n",
       "    <tr>\n",
       "      <th>1</th>\n",
       "      <td>U100003</td>\n",
       "      <td>2.000000</td>\n",
       "      <td>1.000000</td>\n",
       "      <td>Windows</td>\n",
       "      <td>Product101</td>\n",
       "      <td>Pr100079</td>\n",
       "    </tr>\n",
       "    <tr>\n",
       "      <th>2</th>\n",
       "      <td>U100004</td>\n",
       "      <td>12.293281</td>\n",
       "      <td>1.000000</td>\n",
       "      <td>Windows</td>\n",
       "      <td>Product101</td>\n",
       "      <td>pr101505</td>\n",
       "    </tr>\n",
       "    <tr>\n",
       "      <th>3</th>\n",
       "      <td>U100005</td>\n",
       "      <td>12.293281</td>\n",
       "      <td>1.000000</td>\n",
       "      <td>Android</td>\n",
       "      <td>Pr100234</td>\n",
       "      <td>Pr100234</td>\n",
       "    </tr>\n",
       "    <tr>\n",
       "      <th>4</th>\n",
       "      <td>U100006</td>\n",
       "      <td>12.293281</td>\n",
       "      <td>1.000000</td>\n",
       "      <td>Android</td>\n",
       "      <td>Product101</td>\n",
       "      <td>Pr101111</td>\n",
       "    </tr>\n",
       "  </tbody>\n",
       "</table>\n",
       "</div>"
      ],
      "text/plain": [
       "    UserID  Clicks_last_7_days  Pageloads_last_7_days       OS   ProductID  \\\n",
       "0  U100002           12.293281               3.872105  Android  Product101   \n",
       "1  U100003            2.000000               1.000000  Windows  Product101   \n",
       "2  U100004           12.293281               1.000000  Windows  Product101   \n",
       "3  U100005           12.293281               1.000000  Android    Pr100234   \n",
       "4  U100006           12.293281               1.000000  Android  Product101   \n",
       "\n",
       "  Most_Viewed_product_15_Days  \n",
       "0                    Pr100258  \n",
       "1                    Pr100079  \n",
       "2                    pr101505  \n",
       "3                    Pr100234  \n",
       "4                    Pr101111  "
      ]
     },
     "execution_count": 43,
     "metadata": {},
     "output_type": "execute_result"
    }
   ],
   "source": [
    "my_sub.head()"
   ]
  },
  {
   "cell_type": "code",
   "execution_count": 40,
   "id": "b17ee667",
   "metadata": {},
   "outputs": [],
   "source": [
    "sample_df['Most_Viewed_product_15_Days'] = my_sub['Most_Viewed_product_15_Days']\n",
    "sample_df['Most_Active_OS'] = my_sub['OS']\n",
    "sample_df['Recently_Viewed_Product'] = my_sub['ProductID']\n",
    "sample_df['Pageloads_last_7_days'] = my_sub['Pageloads_last_7_days']\n",
    "sample_df['Clicks_last_7_days'] = my_sub['Clicks_last_7_days']\n",
    "\n",
    "sample_df.to_csv('V.RoughSub1.csv', index=False)"
   ]
  },
  {
   "cell_type": "code",
   "execution_count": 45,
   "id": "d01121f1",
   "metadata": {},
   "outputs": [],
   "source": [
    "sample_df['Most_Viewed_product_15_Days'] = combined_df['ProductID'].mode()[0]\n",
    "sample_df['Most_Active_OS'] = combined_df['OS'].mode()[0]\n",
    "sample_df['Recently_Viewed_Product'] = combined_df['ProductID'].mode()[0]\n",
    "sample_df['Pageloads_last_7_days'] = my_sub['Pageloads_last_7_days']\n",
    "sample_df['Clicks_last_7_days'] = my_sub['Clicks_last_7_days']\n",
    "sample_df['No_of_days_Visited_7_Days'] = combined_df['days'].mean()\n",
    "\n",
    "sample_df.to_csv('V.RoughSub1.csv', index=False)"
   ]
  },
  {
   "cell_type": "code",
   "execution_count": 41,
   "id": "4ae56f1a",
   "metadata": {},
   "outputs": [
    {
     "data": {
      "text/html": [
       "<div>\n",
       "<style scoped>\n",
       "    .dataframe tbody tr th:only-of-type {\n",
       "        vertical-align: middle;\n",
       "    }\n",
       "\n",
       "    .dataframe tbody tr th {\n",
       "        vertical-align: top;\n",
       "    }\n",
       "\n",
       "    .dataframe thead th {\n",
       "        text-align: right;\n",
       "    }\n",
       "</style>\n",
       "<table border=\"1\" class=\"dataframe\">\n",
       "  <thead>\n",
       "    <tr style=\"text-align: right;\">\n",
       "      <th></th>\n",
       "      <th>UserID</th>\n",
       "      <th>No_of_days_Visited_7_Days</th>\n",
       "      <th>No_Of_Products_Viewed_15_Days</th>\n",
       "      <th>User_Vintage</th>\n",
       "      <th>Most_Viewed_product_15_Days</th>\n",
       "      <th>Most_Active_OS</th>\n",
       "      <th>Recently_Viewed_Product</th>\n",
       "      <th>Pageloads_last_7_days</th>\n",
       "      <th>Clicks_last_7_days</th>\n",
       "    </tr>\n",
       "  </thead>\n",
       "  <tbody>\n",
       "    <tr>\n",
       "      <th>0</th>\n",
       "      <td>U100002</td>\n",
       "      <td>1</td>\n",
       "      <td>1</td>\n",
       "      <td>1</td>\n",
       "      <td>Pr100258</td>\n",
       "      <td>Android</td>\n",
       "      <td>Product101</td>\n",
       "      <td>3.872105</td>\n",
       "      <td>12.293281</td>\n",
       "    </tr>\n",
       "    <tr>\n",
       "      <th>1</th>\n",
       "      <td>U100003</td>\n",
       "      <td>1</td>\n",
       "      <td>1</td>\n",
       "      <td>1</td>\n",
       "      <td>Pr100079</td>\n",
       "      <td>Windows</td>\n",
       "      <td>Product101</td>\n",
       "      <td>1.000000</td>\n",
       "      <td>2.000000</td>\n",
       "    </tr>\n",
       "  </tbody>\n",
       "</table>\n",
       "</div>"
      ],
      "text/plain": [
       "    UserID  No_of_days_Visited_7_Days  No_Of_Products_Viewed_15_Days  \\\n",
       "0  U100002                          1                              1   \n",
       "1  U100003                          1                              1   \n",
       "\n",
       "   User_Vintage Most_Viewed_product_15_Days Most_Active_OS  \\\n",
       "0             1                    Pr100258        Android   \n",
       "1             1                    Pr100079        Windows   \n",
       "\n",
       "  Recently_Viewed_Product  Pageloads_last_7_days  Clicks_last_7_days  \n",
       "0              Product101               3.872105           12.293281  \n",
       "1              Product101               1.000000            2.000000  "
      ]
     },
     "execution_count": 41,
     "metadata": {},
     "output_type": "execute_result"
    }
   ],
   "source": [
    "sample_df.head(2)"
   ]
  },
  {
   "cell_type": "code",
   "execution_count": 42,
   "id": "c789581e",
   "metadata": {},
   "outputs": [
    {
     "data": {
      "text/html": [
       "<div>\n",
       "<style scoped>\n",
       "    .dataframe tbody tr th:only-of-type {\n",
       "        vertical-align: middle;\n",
       "    }\n",
       "\n",
       "    .dataframe tbody tr th {\n",
       "        vertical-align: top;\n",
       "    }\n",
       "\n",
       "    .dataframe thead th {\n",
       "        text-align: right;\n",
       "    }\n",
       "</style>\n",
       "<table border=\"1\" class=\"dataframe\">\n",
       "  <thead>\n",
       "    <tr style=\"text-align: right;\">\n",
       "      <th></th>\n",
       "      <th>webClientID</th>\n",
       "      <th>VisitDateTime</th>\n",
       "      <th>ProductID</th>\n",
       "      <th>UserID</th>\n",
       "      <th>Activity</th>\n",
       "      <th>Browser</th>\n",
       "      <th>OS</th>\n",
       "      <th>City</th>\n",
       "      <th>Country</th>\n",
       "      <th>newVisitDateTime</th>\n",
       "      <th>days</th>\n",
       "      <th>Signup Date</th>\n",
       "      <th>User Segment</th>\n",
       "    </tr>\n",
       "  </thead>\n",
       "  <tbody>\n",
       "    <tr>\n",
       "      <th>0</th>\n",
       "      <td>WI100000112772</td>\n",
       "      <td>1526366895249000000</td>\n",
       "      <td>Pr100017</td>\n",
       "      <td>U106593</td>\n",
       "      <td>CLICK</td>\n",
       "      <td>Chrome Mobile</td>\n",
       "      <td>Android</td>\n",
       "      <td></td>\n",
       "      <td></td>\n",
       "      <td>2018-05-15 07:48:15</td>\n",
       "      <td>15.0</td>\n",
       "      <td>2017-09-10 15:48:09.451327+00:00</td>\n",
       "      <td>B</td>\n",
       "    </tr>\n",
       "    <tr>\n",
       "      <th>1</th>\n",
       "      <td>WI100000112772</td>\n",
       "      <td>2018-05-16 06:53:23.737</td>\n",
       "      <td>Pr100241</td>\n",
       "      <td>U106593</td>\n",
       "      <td>PAGELOAD</td>\n",
       "      <td>Chrome Mobile</td>\n",
       "      <td>Android</td>\n",
       "      <td></td>\n",
       "      <td></td>\n",
       "      <td>2018-05-16 06:53:23</td>\n",
       "      <td>16.0</td>\n",
       "      <td>2017-09-10 15:48:09.451327+00:00</td>\n",
       "      <td>B</td>\n",
       "    </tr>\n",
       "  </tbody>\n",
       "</table>\n",
       "</div>"
      ],
      "text/plain": [
       "      webClientID            VisitDateTime ProductID   UserID  Activity  \\\n",
       "0  WI100000112772      1526366895249000000  Pr100017  U106593     CLICK   \n",
       "1  WI100000112772  2018-05-16 06:53:23.737  Pr100241  U106593  PAGELOAD   \n",
       "\n",
       "         Browser       OS City Country    newVisitDateTime  days  \\\n",
       "0  Chrome Mobile  Android              2018-05-15 07:48:15  15.0   \n",
       "1  Chrome Mobile  Android              2018-05-16 06:53:23  16.0   \n",
       "\n",
       "                       Signup Date User Segment  \n",
       "0 2017-09-10 15:48:09.451327+00:00            B  \n",
       "1 2017-09-10 15:48:09.451327+00:00            B  "
      ]
     },
     "execution_count": 42,
     "metadata": {},
     "output_type": "execute_result"
    }
   ],
   "source": [
    "combined_df.head(2)"
   ]
  },
  {
   "cell_type": "code",
   "execution_count": null,
   "id": "fe51dc91",
   "metadata": {},
   "outputs": [],
   "source": []
  },
  {
   "cell_type": "markdown",
   "id": "0868356a",
   "metadata": {},
   "source": [
    "### User_Vintage\n",
    "\t\n",
    "\n",
    "Vintage (In Days) of the user as of today"
   ]
  },
  {
   "cell_type": "code",
   "execution_count": 157,
   "id": "f73f2862",
   "metadata": {},
   "outputs": [
    {
     "data": {
      "text/html": [
       "<div>\n",
       "<style scoped>\n",
       "    .dataframe tbody tr th:only-of-type {\n",
       "        vertical-align: middle;\n",
       "    }\n",
       "\n",
       "    .dataframe tbody tr th {\n",
       "        vertical-align: top;\n",
       "    }\n",
       "\n",
       "    .dataframe thead th {\n",
       "        text-align: right;\n",
       "    }\n",
       "</style>\n",
       "<table border=\"1\" class=\"dataframe\">\n",
       "  <thead>\n",
       "    <tr style=\"text-align: right;\">\n",
       "      <th></th>\n",
       "      <th>webClientID</th>\n",
       "      <th>VisitDateTime</th>\n",
       "      <th>ProductID</th>\n",
       "      <th>UserID</th>\n",
       "      <th>Activity</th>\n",
       "      <th>Browser</th>\n",
       "      <th>OS</th>\n",
       "      <th>City</th>\n",
       "      <th>Country</th>\n",
       "      <th>newVisitDateTime</th>\n",
       "      <th>days</th>\n",
       "      <th>Signup Date</th>\n",
       "      <th>User Segment</th>\n",
       "    </tr>\n",
       "  </thead>\n",
       "  <tbody>\n",
       "    <tr>\n",
       "      <th>0</th>\n",
       "      <td>WI100000112772</td>\n",
       "      <td>1526366895249000000</td>\n",
       "      <td>Pr100017</td>\n",
       "      <td>U106593</td>\n",
       "      <td>CLICK</td>\n",
       "      <td>Chrome Mobile</td>\n",
       "      <td>Android</td>\n",
       "      <td></td>\n",
       "      <td></td>\n",
       "      <td>2018-05-15 07:48:15</td>\n",
       "      <td>15.0</td>\n",
       "      <td>2017-09-10 15:48:09.451327+00:00</td>\n",
       "      <td>B</td>\n",
       "    </tr>\n",
       "  </tbody>\n",
       "</table>\n",
       "</div>"
      ],
      "text/plain": [
       "      webClientID        VisitDateTime ProductID   UserID Activity  \\\n",
       "0  WI100000112772  1526366895249000000  Pr100017  U106593    CLICK   \n",
       "\n",
       "         Browser       OS City Country    newVisitDateTime  days  \\\n",
       "0  Chrome Mobile  Android              2018-05-15 07:48:15  15.0   \n",
       "\n",
       "                       Signup Date User Segment  \n",
       "0 2017-09-10 15:48:09.451327+00:00            B  "
      ]
     },
     "execution_count": 157,
     "metadata": {},
     "output_type": "execute_result"
    }
   ],
   "source": [
    "combined_df.head(1)"
   ]
  },
  {
   "cell_type": "code",
   "execution_count": null,
   "id": "4dcae5f4",
   "metadata": {},
   "outputs": [],
   "source": []
  },
  {
   "cell_type": "code",
   "execution_count": null,
   "id": "cb89ab1d",
   "metadata": {},
   "outputs": [],
   "source": []
  },
  {
   "cell_type": "code",
   "execution_count": 115,
   "id": "e64c98ac",
   "metadata": {},
   "outputs": [
    {
     "data": {
      "text/html": [
       "<div>\n",
       "<style scoped>\n",
       "    .dataframe tbody tr th:only-of-type {\n",
       "        vertical-align: middle;\n",
       "    }\n",
       "\n",
       "    .dataframe tbody tr th {\n",
       "        vertical-align: top;\n",
       "    }\n",
       "\n",
       "    .dataframe thead th {\n",
       "        text-align: right;\n",
       "    }\n",
       "</style>\n",
       "<table border=\"1\" class=\"dataframe\">\n",
       "  <thead>\n",
       "    <tr style=\"text-align: right;\">\n",
       "      <th></th>\n",
       "      <th>UserID</th>\n",
       "      <th>No_of_days_Visited_7_Days</th>\n",
       "      <th>No_Of_Products_Viewed_15_Days</th>\n",
       "      <th>User_Vintage</th>\n",
       "      <th>Most_Viewed_product_15_Days</th>\n",
       "      <th>Most_Active_OS</th>\n",
       "      <th>Recently_Viewed_Product</th>\n",
       "      <th>Pageloads_last_7_days</th>\n",
       "      <th>Clicks_last_7_days</th>\n",
       "    </tr>\n",
       "  </thead>\n",
       "  <tbody>\n",
       "    <tr>\n",
       "      <th>0</th>\n",
       "      <td>U100002</td>\n",
       "      <td>1</td>\n",
       "      <td>1</td>\n",
       "      <td>1</td>\n",
       "      <td>P12345</td>\n",
       "      <td>OS12345</td>\n",
       "      <td>P12345</td>\n",
       "      <td>1</td>\n",
       "      <td>1</td>\n",
       "    </tr>\n",
       "    <tr>\n",
       "      <th>1</th>\n",
       "      <td>U100003</td>\n",
       "      <td>1</td>\n",
       "      <td>1</td>\n",
       "      <td>1</td>\n",
       "      <td>P12345</td>\n",
       "      <td>OS12345</td>\n",
       "      <td>P12345</td>\n",
       "      <td>1</td>\n",
       "      <td>1</td>\n",
       "    </tr>\n",
       "    <tr>\n",
       "      <th>2</th>\n",
       "      <td>U100004</td>\n",
       "      <td>1</td>\n",
       "      <td>1</td>\n",
       "      <td>1</td>\n",
       "      <td>P12345</td>\n",
       "      <td>OS12345</td>\n",
       "      <td>P12345</td>\n",
       "      <td>1</td>\n",
       "      <td>1</td>\n",
       "    </tr>\n",
       "    <tr>\n",
       "      <th>3</th>\n",
       "      <td>U100005</td>\n",
       "      <td>1</td>\n",
       "      <td>1</td>\n",
       "      <td>1</td>\n",
       "      <td>P12345</td>\n",
       "      <td>OS12345</td>\n",
       "      <td>P12345</td>\n",
       "      <td>1</td>\n",
       "      <td>1</td>\n",
       "    </tr>\n",
       "    <tr>\n",
       "      <th>4</th>\n",
       "      <td>U100006</td>\n",
       "      <td>1</td>\n",
       "      <td>1</td>\n",
       "      <td>1</td>\n",
       "      <td>P12345</td>\n",
       "      <td>OS12345</td>\n",
       "      <td>P12345</td>\n",
       "      <td>1</td>\n",
       "      <td>1</td>\n",
       "    </tr>\n",
       "  </tbody>\n",
       "</table>\n",
       "</div>"
      ],
      "text/plain": [
       "    UserID  No_of_days_Visited_7_Days  No_Of_Products_Viewed_15_Days  \\\n",
       "0  U100002                          1                              1   \n",
       "1  U100003                          1                              1   \n",
       "2  U100004                          1                              1   \n",
       "3  U100005                          1                              1   \n",
       "4  U100006                          1                              1   \n",
       "\n",
       "   User_Vintage Most_Viewed_product_15_Days Most_Active_OS  \\\n",
       "0             1                      P12345        OS12345   \n",
       "1             1                      P12345        OS12345   \n",
       "2             1                      P12345        OS12345   \n",
       "3             1                      P12345        OS12345   \n",
       "4             1                      P12345        OS12345   \n",
       "\n",
       "  Recently_Viewed_Product  Pageloads_last_7_days  Clicks_last_7_days  \n",
       "0                  P12345                      1                   1  \n",
       "1                  P12345                      1                   1  \n",
       "2                  P12345                      1                   1  \n",
       "3                  P12345                      1                   1  \n",
       "4                  P12345                      1                   1  "
      ]
     },
     "execution_count": 115,
     "metadata": {},
     "output_type": "execute_result"
    }
   ],
   "source": [
    "sample_df.head()"
   ]
  },
  {
   "cell_type": "code",
   "execution_count": null,
   "id": "9227dd99",
   "metadata": {},
   "outputs": [],
   "source": []
  }
 ],
 "metadata": {
  "kernelspec": {
   "display_name": "Python 3",
   "language": "python",
   "name": "python3"
  },
  "language_info": {
   "codemirror_mode": {
    "name": "ipython",
    "version": 3
   },
   "file_extension": ".py",
   "mimetype": "text/x-python",
   "name": "python",
   "nbconvert_exporter": "python",
   "pygments_lexer": "ipython3",
   "version": "3.9.5"
  }
 },
 "nbformat": 4,
 "nbformat_minor": 5
}
