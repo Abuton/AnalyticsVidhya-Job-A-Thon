{
  "nbformat": 4,
  "nbformat_minor": 0,
  "metadata": {
    "colab": {
      "name": "Job-A-thon.ipynb",
      "provenance": [],
      "authorship_tag": "ABX9TyN3cRwMJvrNEj1KN569+Lde",
      "include_colab_link": true
    },
    "kernelspec": {
      "name": "python3",
      "display_name": "Python 3"
    }
  },
  "cells": [
    {
      "cell_type": "markdown",
      "metadata": {
        "id": "view-in-github",
        "colab_type": "text"
      },
      "source": [
        "<a href=\"https://colab.research.google.com/github/Abuton/AnalyticsVidhya-Job-A-Thon/blob/main/Job_A_thon.ipynb\" target=\"_parent\"><img src=\"https://colab.research.google.com/assets/colab-badge.svg\" alt=\"Open In Colab\"/></a>"
      ]
    },
    {
      "cell_type": "code",
      "metadata": {
        "id": "nWxfkCp6v1ts"
      },
      "source": [
        "import pandas as pd\r\n",
        "import numpy as np"
      ],
      "execution_count": 1,
      "outputs": []
    },
    {
      "cell_type": "code",
      "metadata": {
        "colab": {
          "base_uri": "https://localhost:8080/",
          "height": 241
        },
        "id": "R7i68e_uw5en",
        "outputId": "9a900dec-5d77-4031-e6b1-db55cd064e19"
      },
      "source": [
        "# reading the data as a pandas dataframe\r\n",
        "train = pd.read_csv('train_Df64byy.csv')\r\n",
        "test = pd.read_csv('test_YCcRUnU.csv')\r\n",
        "\r\n",
        "train.head()"
      ],
      "execution_count": 111,
      "outputs": [
        {
          "output_type": "execute_result",
          "data": {
            "text/html": [
              "<div>\n",
              "<style scoped>\n",
              "    .dataframe tbody tr th:only-of-type {\n",
              "        vertical-align: middle;\n",
              "    }\n",
              "\n",
              "    .dataframe tbody tr th {\n",
              "        vertical-align: top;\n",
              "    }\n",
              "\n",
              "    .dataframe thead th {\n",
              "        text-align: right;\n",
              "    }\n",
              "</style>\n",
              "<table border=\"1\" class=\"dataframe\">\n",
              "  <thead>\n",
              "    <tr style=\"text-align: right;\">\n",
              "      <th></th>\n",
              "      <th>ID</th>\n",
              "      <th>City_Code</th>\n",
              "      <th>Region_Code</th>\n",
              "      <th>Accomodation_Type</th>\n",
              "      <th>Reco_Insurance_Type</th>\n",
              "      <th>Upper_Age</th>\n",
              "      <th>Lower_Age</th>\n",
              "      <th>Is_Spouse</th>\n",
              "      <th>Health Indicator</th>\n",
              "      <th>Holding_Policy_Duration</th>\n",
              "      <th>Holding_Policy_Type</th>\n",
              "      <th>Reco_Policy_Cat</th>\n",
              "      <th>Reco_Policy_Premium</th>\n",
              "      <th>Response</th>\n",
              "    </tr>\n",
              "  </thead>\n",
              "  <tbody>\n",
              "    <tr>\n",
              "      <th>0</th>\n",
              "      <td>1</td>\n",
              "      <td>C3</td>\n",
              "      <td>3213</td>\n",
              "      <td>Rented</td>\n",
              "      <td>Individual</td>\n",
              "      <td>36</td>\n",
              "      <td>36</td>\n",
              "      <td>No</td>\n",
              "      <td>X1</td>\n",
              "      <td>14+</td>\n",
              "      <td>3.0</td>\n",
              "      <td>22</td>\n",
              "      <td>11628.0</td>\n",
              "      <td>0</td>\n",
              "    </tr>\n",
              "    <tr>\n",
              "      <th>1</th>\n",
              "      <td>2</td>\n",
              "      <td>C5</td>\n",
              "      <td>1117</td>\n",
              "      <td>Owned</td>\n",
              "      <td>Joint</td>\n",
              "      <td>75</td>\n",
              "      <td>22</td>\n",
              "      <td>No</td>\n",
              "      <td>X2</td>\n",
              "      <td>NaN</td>\n",
              "      <td>NaN</td>\n",
              "      <td>22</td>\n",
              "      <td>30510.0</td>\n",
              "      <td>0</td>\n",
              "    </tr>\n",
              "    <tr>\n",
              "      <th>2</th>\n",
              "      <td>3</td>\n",
              "      <td>C5</td>\n",
              "      <td>3732</td>\n",
              "      <td>Owned</td>\n",
              "      <td>Individual</td>\n",
              "      <td>32</td>\n",
              "      <td>32</td>\n",
              "      <td>No</td>\n",
              "      <td>NaN</td>\n",
              "      <td>1.0</td>\n",
              "      <td>1.0</td>\n",
              "      <td>19</td>\n",
              "      <td>7450.0</td>\n",
              "      <td>1</td>\n",
              "    </tr>\n",
              "    <tr>\n",
              "      <th>3</th>\n",
              "      <td>4</td>\n",
              "      <td>C24</td>\n",
              "      <td>4378</td>\n",
              "      <td>Owned</td>\n",
              "      <td>Joint</td>\n",
              "      <td>52</td>\n",
              "      <td>48</td>\n",
              "      <td>No</td>\n",
              "      <td>X1</td>\n",
              "      <td>14+</td>\n",
              "      <td>3.0</td>\n",
              "      <td>19</td>\n",
              "      <td>17780.0</td>\n",
              "      <td>0</td>\n",
              "    </tr>\n",
              "    <tr>\n",
              "      <th>4</th>\n",
              "      <td>5</td>\n",
              "      <td>C8</td>\n",
              "      <td>2190</td>\n",
              "      <td>Rented</td>\n",
              "      <td>Individual</td>\n",
              "      <td>44</td>\n",
              "      <td>44</td>\n",
              "      <td>No</td>\n",
              "      <td>X2</td>\n",
              "      <td>3.0</td>\n",
              "      <td>1.0</td>\n",
              "      <td>16</td>\n",
              "      <td>10404.0</td>\n",
              "      <td>0</td>\n",
              "    </tr>\n",
              "  </tbody>\n",
              "</table>\n",
              "</div>"
            ],
            "text/plain": [
              "   ID City_Code  Region_Code  ... Reco_Policy_Cat Reco_Policy_Premium  Response\n",
              "0   1        C3         3213  ...              22             11628.0         0\n",
              "1   2        C5         1117  ...              22             30510.0         0\n",
              "2   3        C5         3732  ...              19              7450.0         1\n",
              "3   4       C24         4378  ...              19             17780.0         0\n",
              "4   5        C8         2190  ...              16             10404.0         0\n",
              "\n",
              "[5 rows x 14 columns]"
            ]
          },
          "metadata": {
            "tags": []
          },
          "execution_count": 111
        }
      ]
    },
    {
      "cell_type": "code",
      "metadata": {
        "colab": {
          "base_uri": "https://localhost:8080/"
        },
        "id": "2MnD32wcyO-z",
        "outputId": "f3666a44-6f64-471a-e5d8-d59158d8031e"
      },
      "source": [
        "# merge train with test for ease of analysis and feature engineering\r\n",
        "df = pd.concat([train, test], ignore_index=True)\r\n",
        "\r\n",
        "df.shape"
      ],
      "execution_count": 112,
      "outputs": [
        {
          "output_type": "execute_result",
          "data": {
            "text/plain": [
              "(72687, 14)"
            ]
          },
          "metadata": {
            "tags": []
          },
          "execution_count": 112
        }
      ]
    },
    {
      "cell_type": "code",
      "metadata": {
        "colab": {
          "base_uri": "https://localhost:8080/"
        },
        "id": "VKMewcRGZqur",
        "outputId": "e3bc1c8f-8cd7-4a07-ef25-98e0533789b0"
      },
      "source": [
        "# fill missing values with arbitrary numbers\r\n",
        "df['Health Indicator'] = df['Health Indicator'].fillna(-999)\r\n",
        "df['Holding_Policy_Duration'] = df['Holding_Policy_Duration'].fillna(-999)\r\n",
        "df['Holding_Policy_Type'] = df['Holding_Policy_Type'].fillna(-999)\r\n",
        "\r\n",
        "df.isna().sum()"
      ],
      "execution_count": 113,
      "outputs": [
        {
          "output_type": "execute_result",
          "data": {
            "text/plain": [
              "ID                             0\n",
              "City_Code                      0\n",
              "Region_Code                    0\n",
              "Accomodation_Type              0\n",
              "Reco_Insurance_Type            0\n",
              "Upper_Age                      0\n",
              "Lower_Age                      0\n",
              "Is_Spouse                      0\n",
              "Health Indicator               0\n",
              "Holding_Policy_Duration        0\n",
              "Holding_Policy_Type            0\n",
              "Reco_Policy_Cat                0\n",
              "Reco_Policy_Premium            0\n",
              "Response                   21805\n",
              "dtype: int64"
            ]
          },
          "metadata": {
            "tags": []
          },
          "execution_count": 113
        }
      ]
    },
    {
      "cell_type": "markdown",
      "metadata": {
        "id": "ULguTfWs0n0Q"
      },
      "source": [
        "## Exploratory Analysis (Bi variate)\r\n",
        "considering the Target `Response`"
      ]
    },
    {
      "cell_type": "code",
      "metadata": {
        "colab": {
          "base_uri": "https://localhost:8080/",
          "height": 173
        },
        "id": "Kp-RdS1D0m41",
        "outputId": "2cce175b-c716-4ac9-823d-26945ccd845d"
      },
      "source": [
        "# how does Accomodation Type Realte with the target\r\n",
        "target = 'Response'\r\n",
        "pd.crosstab(df[target], df['Accomodation_Type'], margins=True)"
      ],
      "execution_count": 6,
      "outputs": [
        {
          "output_type": "execute_result",
          "data": {
            "text/html": [
              "<div>\n",
              "<style scoped>\n",
              "    .dataframe tbody tr th:only-of-type {\n",
              "        vertical-align: middle;\n",
              "    }\n",
              "\n",
              "    .dataframe tbody tr th {\n",
              "        vertical-align: top;\n",
              "    }\n",
              "\n",
              "    .dataframe thead th {\n",
              "        text-align: right;\n",
              "    }\n",
              "</style>\n",
              "<table border=\"1\" class=\"dataframe\">\n",
              "  <thead>\n",
              "    <tr style=\"text-align: right;\">\n",
              "      <th>Accomodation_Type</th>\n",
              "      <th>Owned</th>\n",
              "      <th>Rented</th>\n",
              "      <th>All</th>\n",
              "    </tr>\n",
              "    <tr>\n",
              "      <th>Response</th>\n",
              "      <th></th>\n",
              "      <th></th>\n",
              "      <th></th>\n",
              "    </tr>\n",
              "  </thead>\n",
              "  <tbody>\n",
              "    <tr>\n",
              "      <th>0.0</th>\n",
              "      <td>21188</td>\n",
              "      <td>17485</td>\n",
              "      <td>38673</td>\n",
              "    </tr>\n",
              "    <tr>\n",
              "      <th>1.0</th>\n",
              "      <td>6763</td>\n",
              "      <td>5446</td>\n",
              "      <td>12209</td>\n",
              "    </tr>\n",
              "    <tr>\n",
              "      <th>All</th>\n",
              "      <td>27951</td>\n",
              "      <td>22931</td>\n",
              "      <td>50882</td>\n",
              "    </tr>\n",
              "  </tbody>\n",
              "</table>\n",
              "</div>"
            ],
            "text/plain": [
              "Accomodation_Type  Owned  Rented    All\n",
              "Response                               \n",
              "0.0                21188   17485  38673\n",
              "1.0                 6763    5446  12209\n",
              "All                27951   22931  50882"
            ]
          },
          "metadata": {
            "tags": []
          },
          "execution_count": 6
        }
      ]
    },
    {
      "cell_type": "code",
      "metadata": {
        "colab": {
          "base_uri": "https://localhost:8080/",
          "height": 173
        },
        "id": "gDGMEBPN16gH",
        "outputId": "9d4631d6-affa-4bcc-864e-9e3b3908ef65"
      },
      "source": [
        "pd.crosstab(df[target], df['Reco_Insurance_Type'], margins=True, normalize=True)"
      ],
      "execution_count": 12,
      "outputs": [
        {
          "output_type": "execute_result",
          "data": {
            "text/html": [
              "<div>\n",
              "<style scoped>\n",
              "    .dataframe tbody tr th:only-of-type {\n",
              "        vertical-align: middle;\n",
              "    }\n",
              "\n",
              "    .dataframe tbody tr th {\n",
              "        vertical-align: top;\n",
              "    }\n",
              "\n",
              "    .dataframe thead th {\n",
              "        text-align: right;\n",
              "    }\n",
              "</style>\n",
              "<table border=\"1\" class=\"dataframe\">\n",
              "  <thead>\n",
              "    <tr style=\"text-align: right;\">\n",
              "      <th>Reco_Insurance_Type</th>\n",
              "      <th>Individual</th>\n",
              "      <th>Joint</th>\n",
              "      <th>All</th>\n",
              "    </tr>\n",
              "    <tr>\n",
              "      <th>Response</th>\n",
              "      <th></th>\n",
              "      <th></th>\n",
              "      <th></th>\n",
              "    </tr>\n",
              "  </thead>\n",
              "  <tbody>\n",
              "    <tr>\n",
              "      <th>0.0</th>\n",
              "      <td>0.607209</td>\n",
              "      <td>0.152844</td>\n",
              "      <td>0.760053</td>\n",
              "    </tr>\n",
              "    <tr>\n",
              "      <th>1.0</th>\n",
              "      <td>0.189458</td>\n",
              "      <td>0.050489</td>\n",
              "      <td>0.239947</td>\n",
              "    </tr>\n",
              "    <tr>\n",
              "      <th>All</th>\n",
              "      <td>0.796667</td>\n",
              "      <td>0.203333</td>\n",
              "      <td>1.000000</td>\n",
              "    </tr>\n",
              "  </tbody>\n",
              "</table>\n",
              "</div>"
            ],
            "text/plain": [
              "Reco_Insurance_Type  Individual     Joint       All\n",
              "Response                                           \n",
              "0.0                    0.607209  0.152844  0.760053\n",
              "1.0                    0.189458  0.050489  0.239947\n",
              "All                    0.796667  0.203333  1.000000"
            ]
          },
          "metadata": {
            "tags": []
          },
          "execution_count": 12
        }
      ]
    },
    {
      "cell_type": "code",
      "metadata": {
        "colab": {
          "base_uri": "https://localhost:8080/",
          "height": 173
        },
        "id": "gk51m0o016VR",
        "outputId": "c887e523-9e63-4738-fcf0-d6c7166a9dba"
      },
      "source": [
        "pd.crosstab(df[target], df['Health Indicator'], margins=True, normalize=True)"
      ],
      "execution_count": 14,
      "outputs": [
        {
          "output_type": "execute_result",
          "data": {
            "text/html": [
              "<div>\n",
              "<style scoped>\n",
              "    .dataframe tbody tr th:only-of-type {\n",
              "        vertical-align: middle;\n",
              "    }\n",
              "\n",
              "    .dataframe tbody tr th {\n",
              "        vertical-align: top;\n",
              "    }\n",
              "\n",
              "    .dataframe thead th {\n",
              "        text-align: right;\n",
              "    }\n",
              "</style>\n",
              "<table border=\"1\" class=\"dataframe\">\n",
              "  <thead>\n",
              "    <tr style=\"text-align: right;\">\n",
              "      <th>Health Indicator</th>\n",
              "      <th>X1</th>\n",
              "      <th>X2</th>\n",
              "      <th>X3</th>\n",
              "      <th>X4</th>\n",
              "      <th>X5</th>\n",
              "      <th>X6</th>\n",
              "      <th>X7</th>\n",
              "      <th>X8</th>\n",
              "      <th>X9</th>\n",
              "      <th>All</th>\n",
              "    </tr>\n",
              "    <tr>\n",
              "      <th>Response</th>\n",
              "      <th></th>\n",
              "      <th></th>\n",
              "      <th></th>\n",
              "      <th></th>\n",
              "      <th></th>\n",
              "      <th></th>\n",
              "      <th></th>\n",
              "      <th></th>\n",
              "      <th></th>\n",
              "      <th></th>\n",
              "    </tr>\n",
              "  </thead>\n",
              "  <tbody>\n",
              "    <tr>\n",
              "      <th>0.0</th>\n",
              "      <td>0.250925</td>\n",
              "      <td>0.200071</td>\n",
              "      <td>0.131739</td>\n",
              "      <td>0.110918</td>\n",
              "      <td>0.033656</td>\n",
              "      <td>0.024827</td>\n",
              "      <td>0.003419</td>\n",
              "      <td>0.001531</td>\n",
              "      <td>0.001250</td>\n",
              "      <td>0.758337</td>\n",
              "    </tr>\n",
              "    <tr>\n",
              "      <th>1.0</th>\n",
              "      <td>0.081039</td>\n",
              "      <td>0.063561</td>\n",
              "      <td>0.040800</td>\n",
              "      <td>0.035620</td>\n",
              "      <td>0.010411</td>\n",
              "      <td>0.007833</td>\n",
              "      <td>0.001582</td>\n",
              "      <td>0.000459</td>\n",
              "      <td>0.000357</td>\n",
              "      <td>0.241663</td>\n",
              "    </tr>\n",
              "    <tr>\n",
              "      <th>All</th>\n",
              "      <td>0.331964</td>\n",
              "      <td>0.263632</td>\n",
              "      <td>0.172540</td>\n",
              "      <td>0.146539</td>\n",
              "      <td>0.044066</td>\n",
              "      <td>0.032661</td>\n",
              "      <td>0.005001</td>\n",
              "      <td>0.001990</td>\n",
              "      <td>0.001608</td>\n",
              "      <td>1.000000</td>\n",
              "    </tr>\n",
              "  </tbody>\n",
              "</table>\n",
              "</div>"
            ],
            "text/plain": [
              "Health Indicator        X1        X2        X3  ...        X8        X9       All\n",
              "Response                                        ...                              \n",
              "0.0               0.250925  0.200071  0.131739  ...  0.001531  0.001250  0.758337\n",
              "1.0               0.081039  0.063561  0.040800  ...  0.000459  0.000357  0.241663\n",
              "All               0.331964  0.263632  0.172540  ...  0.001990  0.001608  1.000000\n",
              "\n",
              "[3 rows x 10 columns]"
            ]
          },
          "metadata": {
            "tags": []
          },
          "execution_count": 14
        }
      ]
    },
    {
      "cell_type": "code",
      "metadata": {
        "colab": {
          "base_uri": "https://localhost:8080/",
          "height": 193
        },
        "id": "9BLAX6Pj0mg2",
        "outputId": "db270b01-9d0f-43f4-81dd-49e45449cb2c"
      },
      "source": [
        "pd.crosstab(df[target], df['Holding_Policy_Duration'], margins=True, normalize=True)\r\n"
      ],
      "execution_count": 15,
      "outputs": [
        {
          "output_type": "execute_result",
          "data": {
            "text/html": [
              "<div>\n",
              "<style scoped>\n",
              "    .dataframe tbody tr th:only-of-type {\n",
              "        vertical-align: middle;\n",
              "    }\n",
              "\n",
              "    .dataframe tbody tr th {\n",
              "        vertical-align: top;\n",
              "    }\n",
              "\n",
              "    .dataframe thead th {\n",
              "        text-align: right;\n",
              "    }\n",
              "</style>\n",
              "<table border=\"1\" class=\"dataframe\">\n",
              "  <thead>\n",
              "    <tr style=\"text-align: right;\">\n",
              "      <th>Holding_Policy_Duration</th>\n",
              "      <th>1.0</th>\n",
              "      <th>10.0</th>\n",
              "      <th>11.0</th>\n",
              "      <th>12.0</th>\n",
              "      <th>13.0</th>\n",
              "      <th>14+</th>\n",
              "      <th>14.0</th>\n",
              "      <th>2.0</th>\n",
              "      <th>3.0</th>\n",
              "      <th>4.0</th>\n",
              "      <th>5.0</th>\n",
              "      <th>6.0</th>\n",
              "      <th>7.0</th>\n",
              "      <th>8.0</th>\n",
              "      <th>9.0</th>\n",
              "      <th>All</th>\n",
              "    </tr>\n",
              "    <tr>\n",
              "      <th>Response</th>\n",
              "      <th></th>\n",
              "      <th></th>\n",
              "      <th></th>\n",
              "      <th></th>\n",
              "      <th></th>\n",
              "      <th></th>\n",
              "      <th></th>\n",
              "      <th></th>\n",
              "      <th></th>\n",
              "      <th></th>\n",
              "      <th></th>\n",
              "      <th></th>\n",
              "      <th></th>\n",
              "      <th></th>\n",
              "      <th></th>\n",
              "      <th></th>\n",
              "    </tr>\n",
              "  </thead>\n",
              "  <tbody>\n",
              "    <tr>\n",
              "      <th>0.0</th>\n",
              "      <td>0.114329</td>\n",
              "      <td>0.019294</td>\n",
              "      <td>0.013352</td>\n",
              "      <td>0.012504</td>\n",
              "      <td>0.012177</td>\n",
              "      <td>0.106036</td>\n",
              "      <td>0.011459</td>\n",
              "      <td>0.106069</td>\n",
              "      <td>0.089909</td>\n",
              "      <td>0.068689</td>\n",
              "      <td>0.058731</td>\n",
              "      <td>0.047305</td>\n",
              "      <td>0.039894</td>\n",
              "      <td>0.031928</td>\n",
              "      <td>0.027717</td>\n",
              "      <td>0.759394</td>\n",
              "    </tr>\n",
              "    <tr>\n",
              "      <th>1.0</th>\n",
              "      <td>0.032549</td>\n",
              "      <td>0.007248</td>\n",
              "      <td>0.004473</td>\n",
              "      <td>0.004244</td>\n",
              "      <td>0.004505</td>\n",
              "      <td>0.035487</td>\n",
              "      <td>0.003754</td>\n",
              "      <td>0.033006</td>\n",
              "      <td>0.027162</td>\n",
              "      <td>0.021775</td>\n",
              "      <td>0.018380</td>\n",
              "      <td>0.014528</td>\n",
              "      <td>0.013810</td>\n",
              "      <td>0.011035</td>\n",
              "      <td>0.008651</td>\n",
              "      <td>0.240606</td>\n",
              "    </tr>\n",
              "    <tr>\n",
              "      <th>All</th>\n",
              "      <td>0.146877</td>\n",
              "      <td>0.026542</td>\n",
              "      <td>0.017825</td>\n",
              "      <td>0.016748</td>\n",
              "      <td>0.016682</td>\n",
              "      <td>0.141523</td>\n",
              "      <td>0.015213</td>\n",
              "      <td>0.139075</td>\n",
              "      <td>0.117071</td>\n",
              "      <td>0.090464</td>\n",
              "      <td>0.077111</td>\n",
              "      <td>0.061833</td>\n",
              "      <td>0.053704</td>\n",
              "      <td>0.042963</td>\n",
              "      <td>0.036368</td>\n",
              "      <td>1.000000</td>\n",
              "    </tr>\n",
              "  </tbody>\n",
              "</table>\n",
              "</div>"
            ],
            "text/plain": [
              "Holding_Policy_Duration       1.0      10.0  ...       9.0       All\n",
              "Response                                     ...                    \n",
              "0.0                      0.114329  0.019294  ...  0.027717  0.759394\n",
              "1.0                      0.032549  0.007248  ...  0.008651  0.240606\n",
              "All                      0.146877  0.026542  ...  0.036368  1.000000\n",
              "\n",
              "[3 rows x 16 columns]"
            ]
          },
          "metadata": {
            "tags": []
          },
          "execution_count": 15
        }
      ]
    },
    {
      "cell_type": "code",
      "metadata": {
        "colab": {
          "base_uri": "https://localhost:8080/",
          "height": 173
        },
        "id": "kuSZv3zp3hjt",
        "outputId": "b6eed9db-826d-4159-b445-f4be5055eff6"
      },
      "source": [
        "pd.crosstab(df[target], df['Holding_Policy_Type'], margins=True, normalize=True)\r\n",
        "\r\n"
      ],
      "execution_count": 16,
      "outputs": [
        {
          "output_type": "execute_result",
          "data": {
            "text/html": [
              "<div>\n",
              "<style scoped>\n",
              "    .dataframe tbody tr th:only-of-type {\n",
              "        vertical-align: middle;\n",
              "    }\n",
              "\n",
              "    .dataframe tbody tr th {\n",
              "        vertical-align: top;\n",
              "    }\n",
              "\n",
              "    .dataframe thead th {\n",
              "        text-align: right;\n",
              "    }\n",
              "</style>\n",
              "<table border=\"1\" class=\"dataframe\">\n",
              "  <thead>\n",
              "    <tr style=\"text-align: right;\">\n",
              "      <th>Holding_Policy_Type</th>\n",
              "      <th>1.0</th>\n",
              "      <th>2.0</th>\n",
              "      <th>3.0</th>\n",
              "      <th>4.0</th>\n",
              "      <th>All</th>\n",
              "    </tr>\n",
              "    <tr>\n",
              "      <th>Response</th>\n",
              "      <th></th>\n",
              "      <th></th>\n",
              "      <th></th>\n",
              "      <th></th>\n",
              "      <th></th>\n",
              "    </tr>\n",
              "  </thead>\n",
              "  <tbody>\n",
              "    <tr>\n",
              "      <th>0.0</th>\n",
              "      <td>0.203911</td>\n",
              "      <td>0.124547</td>\n",
              "      <td>0.328491</td>\n",
              "      <td>0.102445</td>\n",
              "      <td>0.759394</td>\n",
              "    </tr>\n",
              "    <tr>\n",
              "      <th>1.0</th>\n",
              "      <td>0.062910</td>\n",
              "      <td>0.038850</td>\n",
              "      <td>0.105024</td>\n",
              "      <td>0.033822</td>\n",
              "      <td>0.240606</td>\n",
              "    </tr>\n",
              "    <tr>\n",
              "      <th>All</th>\n",
              "      <td>0.266821</td>\n",
              "      <td>0.163397</td>\n",
              "      <td>0.433515</td>\n",
              "      <td>0.136267</td>\n",
              "      <td>1.000000</td>\n",
              "    </tr>\n",
              "  </tbody>\n",
              "</table>\n",
              "</div>"
            ],
            "text/plain": [
              "Holding_Policy_Type       1.0       2.0       3.0       4.0       All\n",
              "Response                                                             \n",
              "0.0                  0.203911  0.124547  0.328491  0.102445  0.759394\n",
              "1.0                  0.062910  0.038850  0.105024  0.033822  0.240606\n",
              "All                  0.266821  0.163397  0.433515  0.136267  1.000000"
            ]
          },
          "metadata": {
            "tags": []
          },
          "execution_count": 16
        }
      ]
    },
    {
      "cell_type": "code",
      "metadata": {
        "id": "FBnKx3gty2-n"
      },
      "source": [
        "# these columns were dropped after initial analysis and were not found to be too useful in terms of explaining customers subscribing for a health insurance\r\n",
        "cols_2_drop = ['ID', 'Upper_Age', 'Lower_Age', 'Reco_Insurance_Type']\r\n",
        "\r\n",
        "# specifying the category columns \r\n",
        "cat_columns = ['City_Code', 'Region_Code', 'Health Indicator', 'Accomodation_Type', 'Reco_Policy_Cat', 'Is_Spouse']\r\n",
        "\r\n",
        "map_reco = {'Individual': 1, 'Joint': 0}\r\n",
        "map_accomodation = {'Rented': 0, 'Owned': 1}\r\n",
        "\r\n",
        "def transform_Holding_Policy_Duration(Holding_Policy_Duration):\r\n",
        "  df[Holding_Policy_Duration] = df[Holding_Policy_Duration].replace('14+', 15, regex=True).astype(float)\r\n",
        "  return df[Holding_Policy_Duration]\r\n",
        "\r\n",
        "# function to calculate feature engineering by aggregating integer columns\r\n",
        "def get_agg_by_cols(data, col, agg_list, agg_cols):\r\n",
        "    \"\"\"\r\n",
        "    data : dataframe to calculate FE on\r\n",
        "    col : list of columns to aggregate by (the object datatype)\r\n",
        "    agg_list : a list of statistical measure e.g mean, median\r\n",
        "    agg_cols : a list of numerical datatype columns\r\n",
        "    \"\"\"\r\n",
        "    for cols in col:\r\n",
        "        for i in agg_list:\r\n",
        "            for j in agg_cols:\r\n",
        "                data[cols+'_'+j+'_'+i] = data.groupby([cols])[j].transform(i)\r\n",
        "    return data\r\n"
      ],
      "execution_count": 114,
      "outputs": []
    },
    {
      "cell_type": "code",
      "metadata": {
        "id": "alE6LO6GA9M_"
      },
      "source": [
        "columns = ['Health Indicator', 'Reco_Policy_Cat']\r\n",
        "agg_list = ['mean', 'std']\r\n",
        "agg_cols = ['Reco_Policy_Premium', 'Average_Age']"
      ],
      "execution_count": 115,
      "outputs": []
    },
    {
      "cell_type": "code",
      "metadata": {
        "id": "3f4h1A0_CscJ"
      },
      "source": [
        "# more feature engineering\r\n",
        "df['Average_Age'] = (df['Upper_Age'] + df['Lower_Age']) / 2\r\n",
        "df['Reco_Policy_Premium_square'] = df['Reco_Policy_Premium'] ** 2"
      ],
      "execution_count": 116,
      "outputs": []
    },
    {
      "cell_type": "code",
      "metadata": {
        "colab": {
          "base_uri": "https://localhost:8080/"
        },
        "id": "Wn8bGfxw39R9",
        "outputId": "1a211344-bb53-4ecf-cec0-4f03a8fb5c09"
      },
      "source": [
        "# transform the data\r\n",
        "df = get_agg_by_cols(data=df, col=columns, agg_list=agg_list, agg_cols=agg_cols)\r\n",
        "df['Reco_Insurance_Type'] = df['Reco_Insurance_Type'].map(map_reco)\r\n",
        "df['Accomodation_Type'] = df['Accomodation_Type'].map(map_accomodation)\r\n",
        "\r\n",
        "df['Holding_Policy_Duration'] = df['Holding_Policy_Duration'].replace('14+', 15, regex=True).astype(float)\r\n",
        "\r\n",
        "df = df.drop(columns=cols_2_drop, axis=1)\r\n",
        "\r\n",
        "df.info()"
      ],
      "execution_count": 117,
      "outputs": [
        {
          "output_type": "stream",
          "text": [
            "<class 'pandas.core.frame.DataFrame'>\n",
            "RangeIndex: 72687 entries, 0 to 72686\n",
            "Data columns (total 20 columns):\n",
            " #   Column                                     Non-Null Count  Dtype  \n",
            "---  ------                                     --------------  -----  \n",
            " 0   City_Code                                  72687 non-null  object \n",
            " 1   Region_Code                                72687 non-null  int64  \n",
            " 2   Accomodation_Type                          72687 non-null  int64  \n",
            " 3   Is_Spouse                                  72687 non-null  object \n",
            " 4   Health Indicator                           72687 non-null  object \n",
            " 5   Holding_Policy_Duration                    72687 non-null  float64\n",
            " 6   Holding_Policy_Type                        72687 non-null  float64\n",
            " 7   Reco_Policy_Cat                            72687 non-null  int64  \n",
            " 8   Reco_Policy_Premium                        72687 non-null  float64\n",
            " 9   Response                                   50882 non-null  float64\n",
            " 10  Average_Age                                72687 non-null  float64\n",
            " 11  Reco_Policy_Premium_square                 72687 non-null  float64\n",
            " 12  Health Indicator_Reco_Policy_Premium_mean  72687 non-null  float64\n",
            " 13  Health Indicator_Average_Age_mean          72687 non-null  float64\n",
            " 14  Health Indicator_Reco_Policy_Premium_std   72687 non-null  float64\n",
            " 15  Health Indicator_Average_Age_std           72687 non-null  float64\n",
            " 16  Reco_Policy_Cat_Reco_Policy_Premium_mean   72687 non-null  float64\n",
            " 17  Reco_Policy_Cat_Average_Age_mean           72687 non-null  float64\n",
            " 18  Reco_Policy_Cat_Reco_Policy_Premium_std    72687 non-null  float64\n",
            " 19  Reco_Policy_Cat_Average_Age_std            72687 non-null  float64\n",
            "dtypes: float64(14), int64(3), object(3)\n",
            "memory usage: 11.1+ MB\n"
          ],
          "name": "stdout"
        }
      ]
    },
    {
      "cell_type": "code",
      "metadata": {
        "id": "cY4zuMJn4qBo"
      },
      "source": [
        "# split back into train set and test sets\r\n",
        "import warnings \r\n",
        "warnings.filterwarnings('ignore')\r\n",
        "\r\n",
        "train_df = df[:len(train)]\r\n",
        "test_df = df[len(train):]\r\n",
        "\r\n",
        "test_df.drop(target, axis=1, inplace=True)\r\n"
      ],
      "execution_count": 118,
      "outputs": []
    },
    {
      "cell_type": "code",
      "metadata": {
        "id": "GiAZOw3r4-MQ"
      },
      "source": [
        "# select the features and targets\r\n",
        "X = train_df.drop(target, axis=1)\r\n",
        "y = train_df[target].astype(int)\r\n",
        "\r\n",
        "assert len(X.columns.values) == len(test_df.columns.values)"
      ],
      "execution_count": 119,
      "outputs": []
    },
    {
      "cell_type": "code",
      "metadata": {
        "id": "231eXVAe_zEP"
      },
      "source": [
        "!pip install catboost"
      ],
      "execution_count": null,
      "outputs": []
    },
    {
      "cell_type": "code",
      "metadata": {
        "colab": {
          "base_uri": "https://localhost:8080/"
        },
        "id": "JGVZ9JV1Eo8f",
        "outputId": "a041b494-7efe-486a-9b6d-24fa528ab92d"
      },
      "source": [
        "from sklearn.model_selection import KFold, StratifiedKFold\r\n",
        "from catboost import CatBoostClassifier\r\n",
        "from sklearn.metrics import roc_auc_score\r\n",
        "kfold, scores, y_pred_totcb = StratifiedKFold(n_splits=5, shuffle=True, random_state=221), list(), []\r\n",
        "for train, test in kfold.split(X, y):\r\n",
        "    x_train, x_test = X.iloc[train], X.iloc[test]\r\n",
        "    y_train, y_test = y.iloc[train], y.iloc[test]\r\n",
        "    \r\n",
        "    model = CatBoostClassifier(random_state=27,  n_estimators=3000, cat_features = cat_columns,\r\n",
        "                               max_depth=7, verbose=500, learning_rate=0.102, eval_metric='AUC')\r\n",
        "    model.fit(x_train, y_train, eval_set=(x_test, y_test))\r\n",
        "    preds = model.predict_proba(x_test)[:,1]\r\n",
        "    score = roc_auc_score(y_test, preds)\r\n",
        "    scores.append(score)\r\n",
        "    print(score)\r\n",
        "    test_pred = model.predict_proba(test_df)[:,1]\r\n",
        "    y_pred_totcb.append(test_pred)\r\n",
        "print(\"Average: \", sum(scores)/len(scores))"
      ],
      "execution_count": 121,
      "outputs": [
        {
          "output_type": "stream",
          "text": [
            "0:\ttest: 0.5863431\tbest: 0.5863431 (0)\ttotal: 93.2ms\tremaining: 4m 39s\n",
            "500:\ttest: 0.8013488\tbest: 0.8036775 (219)\ttotal: 39.1s\tremaining: 3m 14s\n",
            "1000:\ttest: 0.7995125\tbest: 0.8036775 (219)\ttotal: 1m 19s\tremaining: 2m 39s\n",
            "1500:\ttest: 0.7964525\tbest: 0.8036775 (219)\ttotal: 2m 1s\tremaining: 2m 1s\n",
            "2000:\ttest: 0.7934589\tbest: 0.8036775 (219)\ttotal: 2m 43s\tremaining: 1m 21s\n",
            "2500:\ttest: 0.7902194\tbest: 0.8036775 (219)\ttotal: 3m 25s\tremaining: 41.1s\n",
            "2999:\ttest: 0.7879800\tbest: 0.8036775 (219)\ttotal: 4m 9s\tremaining: 0us\n",
            "\n",
            "bestTest = 0.8036774566\n",
            "bestIteration = 219\n",
            "\n",
            "Shrink model to first 220 iterations.\n",
            "0.8036774566186331\n",
            "0:\ttest: 0.6123715\tbest: 0.6123715 (0)\ttotal: 86.1ms\tremaining: 4m 18s\n",
            "500:\ttest: 0.8009528\tbest: 0.8023748 (255)\ttotal: 39.7s\tremaining: 3m 17s\n",
            "1000:\ttest: 0.7980375\tbest: 0.8023748 (255)\ttotal: 1m 21s\tremaining: 2m 42s\n",
            "1500:\ttest: 0.7945047\tbest: 0.8023748 (255)\ttotal: 2m 3s\tremaining: 2m 3s\n",
            "2000:\ttest: 0.7926261\tbest: 0.8023748 (255)\ttotal: 2m 45s\tremaining: 1m 22s\n",
            "2500:\ttest: 0.7902943\tbest: 0.8023748 (255)\ttotal: 3m 30s\tremaining: 41.9s\n",
            "2999:\ttest: 0.7885037\tbest: 0.8023748 (255)\ttotal: 4m 12s\tremaining: 0us\n",
            "\n",
            "bestTest = 0.8023748377\n",
            "bestIteration = 255\n",
            "\n",
            "Shrink model to first 256 iterations.\n",
            "0.8023748376689553\n",
            "0:\ttest: 0.6097418\tbest: 0.6097418 (0)\ttotal: 81.7ms\tremaining: 4m 4s\n",
            "500:\ttest: 0.7969599\tbest: 0.7990117 (210)\ttotal: 40.5s\tremaining: 3m 22s\n",
            "1000:\ttest: 0.7927395\tbest: 0.7990117 (210)\ttotal: 1m 21s\tremaining: 2m 42s\n",
            "1500:\ttest: 0.7898323\tbest: 0.7990117 (210)\ttotal: 2m 4s\tremaining: 2m 4s\n",
            "2000:\ttest: 0.7874817\tbest: 0.7990117 (210)\ttotal: 2m 48s\tremaining: 1m 23s\n",
            "2500:\ttest: 0.7841077\tbest: 0.7990117 (210)\ttotal: 3m 31s\tremaining: 42.2s\n",
            "2999:\ttest: 0.7816902\tbest: 0.7990117 (210)\ttotal: 4m 15s\tremaining: 0us\n",
            "\n",
            "bestTest = 0.799011712\n",
            "bestIteration = 210\n",
            "\n",
            "Shrink model to first 211 iterations.\n",
            "0.7990117119548162\n",
            "0:\ttest: 0.6051796\tbest: 0.6051796 (0)\ttotal: 87.5ms\tremaining: 4m 22s\n",
            "500:\ttest: 0.7889159\tbest: 0.7920472 (202)\ttotal: 40s\tremaining: 3m 19s\n",
            "1000:\ttest: 0.7857816\tbest: 0.7920472 (202)\ttotal: 1m 22s\tremaining: 2m 45s\n",
            "1500:\ttest: 0.7828549\tbest: 0.7920472 (202)\ttotal: 2m 5s\tremaining: 2m 5s\n",
            "2000:\ttest: 0.7792948\tbest: 0.7920472 (202)\ttotal: 2m 50s\tremaining: 1m 25s\n",
            "2500:\ttest: 0.7765662\tbest: 0.7920472 (202)\ttotal: 3m 34s\tremaining: 42.8s\n",
            "2999:\ttest: 0.7745555\tbest: 0.7920472 (202)\ttotal: 4m 17s\tremaining: 0us\n",
            "\n",
            "bestTest = 0.792047178\n",
            "bestIteration = 202\n",
            "\n",
            "Shrink model to first 203 iterations.\n",
            "0.792047178005285\n",
            "0:\ttest: 0.6111190\tbest: 0.6111190 (0)\ttotal: 80.9ms\tremaining: 4m 2s\n",
            "500:\ttest: 0.8015212\tbest: 0.8023935 (379)\ttotal: 38.4s\tremaining: 3m 11s\n",
            "1000:\ttest: 0.7989303\tbest: 0.8023935 (379)\ttotal: 1m 20s\tremaining: 2m 41s\n",
            "1500:\ttest: 0.7961759\tbest: 0.8023935 (379)\ttotal: 2m 4s\tremaining: 2m 4s\n",
            "1000:\ttest: 0.7989303\tbest: 0.8023935 (379)\ttotal: 1m 20s\tremaining: 2m 41s\n",
            "2000:\ttest: 0.7933499\tbest: 0.8023935 (379)\ttotal: 2m 49s\tremaining: 1m 24s\n",
            "2500:\ttest: 0.7917105\tbest: 0.8023935 (379)\ttotal: 3m 34s\tremaining: 42.8s\n",
            "2999:\ttest: 0.7888143\tbest: 0.8023935 (379)\ttotal: 4m 18s\tremaining: 0us\n",
            "\n",
            "bestTest = 0.8023935495\n",
            "bestIteration = 379\n",
            "\n",
            "Shrink model to first 380 iterations.\n",
            "0.8023935494843176\n",
            "Average:  0.7999009467464014\n"
          ],
          "name": "stdout"
        }
      ]
    },
    {
      "cell_type": "code",
      "metadata": {
        "colab": {
          "base_uri": "https://localhost:8080/",
          "height": 570
        },
        "id": "UWcbUNzVrTJy",
        "outputId": "475e6ca4-b372-4c28-b6ef-42ec3a00c55c"
      },
      "source": [
        "fea_imp = pd.Series(model.feature_importances_, index=X.columns)\r\n",
        "fea_imp.plot.barh(figsize=(7, 9), title='Feature Importance')"
      ],
      "execution_count": 122,
      "outputs": [
        {
          "output_type": "execute_result",
          "data": {
            "text/plain": [
              "<matplotlib.axes._subplots.AxesSubplot at 0x7f355d9ef910>"
            ]
          },
          "metadata": {
            "tags": []
          },
          "execution_count": 122
        },
        {
          "output_type": "display_data",
          "data": {
            "image/png": "[encoded data removed]",
            "text/plain": [
              "<Figure size 504x648 with 1 Axes>"
            ]
          },
          "metadata": {
            "tags": [],
            "needs_background": "light"
          }
        }
      ]
    },
    {
      "cell_type": "code",
      "metadata": {
        "colab": {
          "base_uri": "https://localhost:8080/"
        },
        "id": "Rx5qr2cck3BX",
        "outputId": "070e35a5-dcef-44cb-c0c1-034a199b9dc6"
      },
      "source": [
        "np.mean(y_pred_totcb, 0)"
      ],
      "execution_count": 35,
      "outputs": [
        {
          "output_type": "execute_result",
          "data": {
            "text/plain": [
              "array([0.07078154, 0.15242677, 0.63055845, ..., 0.01987155, 0.32827891,\n",
              "       0.11447735])"
            ]
          },
          "metadata": {
            "tags": []
          },
          "execution_count": 35
        }
      ]
    },
    {
      "cell_type": "code",
      "metadata": {
        "id": "taJZuxgbXajL"
      },
      "source": [
        "sub = pd.read_csv('sample_submission_QrCyCoT.csv')\r\n",
        "\r\n",
        "sub[target] = np.mean(y_pred_totcb, 0)"
      ],
      "execution_count": 123,
      "outputs": []
    },
    {
      "cell_type": "code",
      "metadata": {
        "id": "TPaZW6XhX2E0"
      },
      "source": [
        "sub.to_csv('just_cats8.csv', index=False)"
      ],
      "execution_count": 124,
      "outputs": []
    },
    {
      "cell_type": "code",
      "metadata": {
        "id": "-V9_jXD2xtuM"
      },
      "source": [
        "# stacked model results using weighted average\r\n",
        "a = pd.read_csv('just_cats6.csv')\r\n",
        "b = pd.read_csv('just_cats8.csv')\r\n",
        "\r\n",
        "c = (a['Response']*0.7 + b['Response']*0.3) / 2"
      ],
      "execution_count": 125,
      "outputs": []
    },
    {
      "cell_type": "code",
      "metadata": {
        "id": "Vzox_msqKUvu"
      },
      "source": [
        "sub[target] = c\r\n",
        "sub.to_csv('just_cats_stacked_9.csv', index=False)"
      ],
      "execution_count": 126,
      "outputs": []
    },
    {
      "cell_type": "code",
      "metadata": {
        "id": "8lwVjnAasxP-"
      },
      "source": [
        ""
      ],
      "execution_count": null,
      "outputs": []
    }
  ]
}